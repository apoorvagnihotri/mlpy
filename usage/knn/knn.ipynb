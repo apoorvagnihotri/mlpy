{
 "cells": [
  {
   "cell_type": "markdown",
   "metadata": {},
   "source": [
    "# Q1 a"
   ]
  },
  {
   "cell_type": "code",
   "execution_count": 4,
   "metadata": {},
   "outputs": [],
   "source": [
    "# %load_ext autoreload\n",
    "# %autoreload 2\n",
    "\n",
    "# adding relavent directory in includes\n",
    "import sys\n",
    "dirr = \"../../src\"\n",
    "if dirr not in sys.path:\n",
    "    sys.path.append(dirr)\n",
    "\n",
    "import pandas as pd\n",
    "import numpy as np\n",
    "from sklearn.model_selection import train_test_split\n",
    "from knn import KNNClassifier\n",
    "from utils import train_timer\n",
    "import pandas as pd\n",
    "import matplotlib.pyplot as plt\n",
    "from mpl_toolkits.mplot3d import Axes3D\n",
    "from matplotlib import cm\n",
    "from matplotlib.ticker import LinearLocator, FormatStrFormatter"
   ]
  },
  {
   "cell_type": "code",
   "execution_count": 5,
   "metadata": {},
   "outputs": [
    {
     "data": {
      "text/html": [
       "<div>\n",
       "<style scoped>\n",
       "    .dataframe tbody tr th:only-of-type {\n",
       "        vertical-align: middle;\n",
       "    }\n",
       "\n",
       "    .dataframe tbody tr th {\n",
       "        vertical-align: top;\n",
       "    }\n",
       "\n",
       "    .dataframe thead th {\n",
       "        text-align: right;\n",
       "    }\n",
       "</style>\n",
       "<table border=\"1\" class=\"dataframe\">\n",
       "  <thead>\n",
       "    <tr style=\"text-align: right;\">\n",
       "      <th></th>\n",
       "      <th>5.1</th>\n",
       "      <th>3.5</th>\n",
       "      <th>1.4</th>\n",
       "      <th>0.2</th>\n",
       "      <th>Iris-setosa</th>\n",
       "    </tr>\n",
       "  </thead>\n",
       "  <tbody>\n",
       "    <tr>\n",
       "      <th>0</th>\n",
       "      <td>4.9</td>\n",
       "      <td>3.0</td>\n",
       "      <td>1.4</td>\n",
       "      <td>0.2</td>\n",
       "      <td>Iris-setosa</td>\n",
       "    </tr>\n",
       "    <tr>\n",
       "      <th>1</th>\n",
       "      <td>4.7</td>\n",
       "      <td>3.2</td>\n",
       "      <td>1.3</td>\n",
       "      <td>0.2</td>\n",
       "      <td>Iris-setosa</td>\n",
       "    </tr>\n",
       "    <tr>\n",
       "      <th>2</th>\n",
       "      <td>4.6</td>\n",
       "      <td>3.1</td>\n",
       "      <td>1.5</td>\n",
       "      <td>0.2</td>\n",
       "      <td>Iris-setosa</td>\n",
       "    </tr>\n",
       "    <tr>\n",
       "      <th>3</th>\n",
       "      <td>5.0</td>\n",
       "      <td>3.6</td>\n",
       "      <td>1.4</td>\n",
       "      <td>0.2</td>\n",
       "      <td>Iris-setosa</td>\n",
       "    </tr>\n",
       "    <tr>\n",
       "      <th>4</th>\n",
       "      <td>5.4</td>\n",
       "      <td>3.9</td>\n",
       "      <td>1.7</td>\n",
       "      <td>0.4</td>\n",
       "      <td>Iris-setosa</td>\n",
       "    </tr>\n",
       "  </tbody>\n",
       "</table>\n",
       "</div>"
      ],
      "text/plain": [
       "   5.1  3.5  1.4  0.2  Iris-setosa\n",
       "0  4.9  3.0  1.4  0.2  Iris-setosa\n",
       "1  4.7  3.2  1.3  0.2  Iris-setosa\n",
       "2  4.6  3.1  1.5  0.2  Iris-setosa\n",
       "3  5.0  3.6  1.4  0.2  Iris-setosa\n",
       "4  5.4  3.9  1.7  0.4  Iris-setosa"
      ]
     },
     "execution_count": 5,
     "metadata": {},
     "output_type": "execute_result"
    }
   ],
   "source": [
    "data = pd.read_csv(\"../../data/iris/iris.csv\")\n",
    "data.head(5)"
   ]
  },
  {
   "cell_type": "code",
   "execution_count": 6,
   "metadata": {
    "scrolled": false
   },
   "outputs": [
    {
     "name": "stdout",
     "output_type": "stream",
     "text": [
      "acc: 0.9798657718120806\n"
     ]
    }
   ],
   "source": [
    "knns = KNNClassifier()\n",
    "knns.train(data.iloc[:, :-1].values, data.iloc[:, -1].values)\n",
    "y_pred = knns.predict(data.iloc[:, :-1].values)\n",
    "corr = np.sum(y_pred == data.iloc[:, -1].values)\n",
    "print ('acc:', corr / len(y_pred))"
   ]
  },
  {
   "cell_type": "markdown",
   "metadata": {},
   "source": [
    "# Q1 b"
   ]
  },
  {
   "cell_type": "code",
   "execution_count": 7,
   "metadata": {},
   "outputs": [],
   "source": [
    "samples = [2 ** i for i in range(2, 14)]\n",
    "features = [2 ** i for i in range(2, 14)]\n",
    "k = 3\n",
    "dist_metric = 'euclidian'\n",
    "\n",
    "train_vals = []\n",
    "test_vals = []\n",
    "\n",
    "for i, sample in enumerate(samples):\n",
    "    for j, feature in enumerate(features):\n",
    "        y = np.zeros(sample)\n",
    "        x = np.random.rand(sample, feature)\n",
    "        model = KNNClassifier(k = 2, dist_metric='euclidian')\n",
    "        train_vals.append((i, j, train_timer(model.train, X=x, y=y)))\n",
    "        \n",
    "        x_test = np.random.rand(2, feature)\n",
    "        test_vals.append((i, j, train_timer(model.predict, X_test=x_test)))\n",
    "\n",
    "# print (train_vals)\n",
    "# print (test_vals)"
   ]
  },
  {
   "cell_type": "code",
   "execution_count": 8,
   "metadata": {},
   "outputs": [
    {
     "data": {
      "image/png": "[encoded data removed]",
      "text/plain": [
       "<Figure size 432x288 with 2 Axes>"
      ]
     },
     "metadata": {
      "needs_background": "light"
     },
     "output_type": "display_data"
    }
   ],
   "source": [
    "# Taken from https://stackoverflow.com/questions/9170838/surface-plots-in-matplotlib\n",
    "import pandas as pd\n",
    "from scipy.interpolate import griddata\n",
    "from matplotlib.ticker import LinearLocator, FormatStrFormatter\n",
    "x, y, z = zip(*train_vals)\n",
    "xyz = {'x': x, 'y': y, 'z': z}\n",
    "\n",
    "df = pd.DataFrame(xyz, index=range(len(xyz['x']))) \n",
    "\n",
    "x1 = np.linspace(df['x'].min(), df['x'].max(), len(df['x'].unique()))\n",
    "y1 = np.linspace(df['y'].min(), df['y'].max(), len(df['y'].unique()))\n",
    "x2, y2 = np.meshgrid(x1, y1)\n",
    "z2 = griddata((df['x'], df['y']), df['z'], (x2, y2), method='cubic')\n",
    "\n",
    "fig = plt.figure()\n",
    "ax = fig.gca(projection='3d')\n",
    "surf = ax.plot_surface(x2, y2, z2, rstride=1, cstride=1, cmap=cm.coolwarm,\n",
    "    linewidth=0, antialiased=False)\n",
    "\n",
    "ax.zaxis.set_major_locator(LinearLocator(10))\n",
    "ax.zaxis.set_major_formatter(FormatStrFormatter('%.02f'))\n",
    "ax.set_xlabel('# of samples')\n",
    "ax.set_ylabel('# of features')\n",
    "ax.set_zlabel('Time Taken')\n",
    "\n",
    "fig.colorbar(surf, shrink=0.5, aspect=5)\n",
    "plt.title('Training times')\n",
    "\n",
    "plt.show()"
   ]
  },
  {
   "cell_type": "code",
   "execution_count": 9,
   "metadata": {},
   "outputs": [
    {
     "data": {
      "image/png": "[encoded data removed]",
      "text/plain": [
       "<Figure size 432x288 with 2 Axes>"
      ]
     },
     "metadata": {
      "needs_background": "light"
     },
     "output_type": "display_data"
    }
   ],
   "source": [
    "# Taken from https://stackoverflow.com/questions/9170838/surface-plots-in-matplotlib\n",
    "import pandas as pd\n",
    "from scipy.interpolate import griddata\n",
    "from matplotlib.ticker import LinearLocator, FormatStrFormatter\n",
    "x, y, z = zip(*test_vals)\n",
    "xyz = {'x': x, 'y': y, 'z': z}\n",
    "\n",
    "df = pd.DataFrame(xyz, index=range(len(xyz['x']))) \n",
    "\n",
    "x1 = np.linspace(df['x'].min(), df['x'].max(), len(df['x'].unique()))\n",
    "y1 = np.linspace(df['y'].min(), df['y'].max(), len(df['y'].unique()))\n",
    "x2, y2 = np.meshgrid(x1, y1)\n",
    "z2 = griddata((df['x'], df['y']), df['z'], (x2, y2), method='cubic')\n",
    "\n",
    "fig = plt.figure()\n",
    "ax = fig.gca(projection='3d')\n",
    "surf = ax.plot_surface(x2, y2, z2, rstride=1, cstride=1, cmap=cm.coolwarm,\n",
    "    linewidth=0, antialiased=False)\n",
    "\n",
    "ax.zaxis.set_major_locator(LinearLocator(10))\n",
    "ax.zaxis.set_major_formatter(FormatStrFormatter('%.02f'))\n",
    "ax.set_xlabel('# of samples')\n",
    "ax.set_ylabel('# of features')\n",
    "ax.set_zlabel('Time Taken')\n",
    "\n",
    "fig.colorbar(surf, shrink=0.5, aspect=5)\n",
    "plt.title('Predicting times')\n",
    "\n",
    "plt.show()"
   ]
  },
  {
   "cell_type": "markdown",
   "metadata": {},
   "source": [
    "The theoretical running time complexity for:\n",
    "\n",
    "- Training: $O(const)$\n",
    "\n",
    "- Predicting: $O(k \\times n \\times m)$\n",
    "\n",
    "Where $n$ is the number of samples, and $m$ is the number of features.\n",
    "\n",
    "The resulting plots obtained above seem by the theoretical complexities. Although we see training time seems to increase, this is because the time taken to save n is not constant, due to implementation details. Also we notice that we get spikes due to other factors like background processes affecting the timings here."
   ]
  },
  {
   "cell_type": "markdown",
   "metadata": {},
   "source": [
    "# Q2"
   ]
  },
  {
   "cell_type": "code",
   "execution_count": 20,
   "metadata": {},
   "outputs": [],
   "source": [
    "from sklearn.neighbors import KNeighborsRegressor"
   ]
  },
  {
   "cell_type": "code",
   "execution_count": 21,
   "metadata": {},
   "outputs": [
    {
     "data": {
      "text/html": [
       "<div>\n",
       "<style scoped>\n",
       "    .dataframe tbody tr th:only-of-type {\n",
       "        vertical-align: middle;\n",
       "    }\n",
       "\n",
       "    .dataframe tbody tr th {\n",
       "        vertical-align: top;\n",
       "    }\n",
       "\n",
       "    .dataframe thead th {\n",
       "        text-align: right;\n",
       "    }\n",
       "</style>\n",
       "<table border=\"1\" class=\"dataframe\">\n",
       "  <thead>\n",
       "    <tr style=\"text-align: right;\">\n",
       "      <th></th>\n",
       "      <th>X1 transaction date</th>\n",
       "      <th>X2 house age</th>\n",
       "      <th>X3 distance to the nearest MRT station</th>\n",
       "      <th>X4 number of convenience stores</th>\n",
       "      <th>X5 latitude</th>\n",
       "      <th>X6 longitude</th>\n",
       "    </tr>\n",
       "  </thead>\n",
       "  <tbody>\n",
       "    <tr>\n",
       "      <th>197</th>\n",
       "      <td>2013.250000</td>\n",
       "      <td>34.4</td>\n",
       "      <td>126.7286</td>\n",
       "      <td>8</td>\n",
       "      <td>24.96881</td>\n",
       "      <td>121.54089</td>\n",
       "    </tr>\n",
       "    <tr>\n",
       "      <th>407</th>\n",
       "      <td>2013.000000</td>\n",
       "      <td>5.2</td>\n",
       "      <td>2408.9930</td>\n",
       "      <td>0</td>\n",
       "      <td>24.95505</td>\n",
       "      <td>121.55964</td>\n",
       "    </tr>\n",
       "    <tr>\n",
       "      <th>316</th>\n",
       "      <td>2013.250000</td>\n",
       "      <td>13.3</td>\n",
       "      <td>250.6310</td>\n",
       "      <td>7</td>\n",
       "      <td>24.96606</td>\n",
       "      <td>121.54297</td>\n",
       "    </tr>\n",
       "    <tr>\n",
       "      <th>265</th>\n",
       "      <td>2012.833333</td>\n",
       "      <td>15.7</td>\n",
       "      <td>815.9314</td>\n",
       "      <td>4</td>\n",
       "      <td>24.97886</td>\n",
       "      <td>121.53464</td>\n",
       "    </tr>\n",
       "    <tr>\n",
       "      <th>128</th>\n",
       "      <td>2013.083333</td>\n",
       "      <td>41.3</td>\n",
       "      <td>124.9912</td>\n",
       "      <td>6</td>\n",
       "      <td>24.96674</td>\n",
       "      <td>121.54039</td>\n",
       "    </tr>\n",
       "  </tbody>\n",
       "</table>\n",
       "</div>"
      ],
      "text/plain": [
       "     X1 transaction date  X2 house age  \\\n",
       "197          2013.250000          34.4   \n",
       "407          2013.000000           5.2   \n",
       "316          2013.250000          13.3   \n",
       "265          2012.833333          15.7   \n",
       "128          2013.083333          41.3   \n",
       "\n",
       "     X3 distance to the nearest MRT station  X4 number of convenience stores  \\\n",
       "197                                126.7286                                8   \n",
       "407                               2408.9930                                0   \n",
       "316                                250.6310                                7   \n",
       "265                                815.9314                                4   \n",
       "128                                124.9912                                6   \n",
       "\n",
       "     X5 latitude  X6 longitude  \n",
       "197     24.96881     121.54089  \n",
       "407     24.95505     121.55964  \n",
       "316     24.96606     121.54297  \n",
       "265     24.97886     121.53464  \n",
       "128     24.96674     121.54039  "
      ]
     },
     "execution_count": 21,
     "metadata": {},
     "output_type": "execute_result"
    }
   ],
   "source": [
    "data_loc = \"../../data/real_estate/dataset.xlsx\"\n",
    "data = pd.read_excel(data_loc)\n",
    "X = data.iloc[:, 1:-1]\n",
    "y = data.iloc[:, -1]\n",
    "tupl = train_test_split(X, y)\n",
    "X_train, X_test, y_train, y_test = tupl\n",
    "X_train.head(5)"
   ]
  },
  {
   "cell_type": "code",
   "execution_count": 27,
   "metadata": {},
   "outputs": [
    {
     "name": "stdout",
     "output_type": "stream",
     "text": [
      "rmse: 0.09131790455606167\n"
     ]
    }
   ],
   "source": [
    "from utils import rmse\n",
    "neigh = KNeighborsRegressor(n_neighbors=3)\n",
    "neigh.fit(X_train, y_train) \n",
    "y_pred = neigh.predict(X_test)\n",
    "corr = rmse(y_pred, y_test.values)\n",
    "print ('rmse:', corr / len(y_pred))"
   ]
  },
  {
   "cell_type": "markdown",
   "metadata": {},
   "source": [
    "# Q2 a"
   ]
  },
  {
   "cell_type": "code",
   "execution_count": 52,
   "metadata": {},
   "outputs": [],
   "source": [
    "from sklearn.utils import shuffle\n",
    "\n",
    "def cross(dTrain, depths, num_valid, clf):\n",
    "    folds = make_folds(dTrain, num_valid)\n",
    "    passed_folds = folds[:-1] # holding out test\n",
    "    k, acc= best_k(passed_folds, depths, clf)\n",
    "    acc = 0\n",
    "    curr_fold_train = folds[:-1]\n",
    "    curr_fold_train = pd.concat(curr_fold_train)\n",
    "    curr_fold_test = folds[-1]\n",
    "    linear_reg = clf(n_neighbors=k)\n",
    "    linear_reg.fit(curr_fold_train.iloc[:, :-1], curr_fold_train.iloc[:, -1])\n",
    "    my_preds = linear_reg.predict(curr_fold_test.iloc[:, :-1])\n",
    "    true = curr_fold_test.iloc[:, -1].values\n",
    "    my_acc = rmse(true, my_preds)\n",
    "    return {\"n_neighbors\": k, \"TEST rmse\": my_acc}   \n",
    "\n",
    "def make_folds(dTrain, num_valid):\n",
    "    '''Make a number of folds with diven pd'''\n",
    "    train = shuffle(dTrain)\n",
    "    last = train.shape[0]\n",
    "    folds = []\n",
    "    for i in range(num_valid):\n",
    "        start = i*int(last/num_valid)\n",
    "        end = (i+1)*int(last/num_valid)\n",
    "        if end >= last:\n",
    "            end = -1\n",
    "        folds.append(train.iloc[start:end, :])\n",
    "    return folds\n",
    "\n",
    "def best_k(folds, depths, clf):\n",
    "    '''return lambda that maximizes the avg accuracy'''\n",
    "    num_valid = len(folds)\n",
    "    acc = {}\n",
    "    train_acc = {}\n",
    "    for i in range(num_valid):\n",
    "        curr_fold_train = [x for j,x in enumerate(folds) if j!=i] \n",
    "        curr_fold_validation = folds[i]\n",
    "        curr_fold_train = pd.concat(curr_fold_train)\n",
    "        for k in depths:\n",
    "            linear_reg = clf(n_neighbors=k)\n",
    "            linear_reg.fit(curr_fold_train.iloc[:, :-1], curr_fold_train.iloc[:, -1])\n",
    "            my_preds = linear_reg.predict(curr_fold_validation.iloc[:, :-1])\n",
    "            true = curr_fold_validation.iloc[:, -1].values\n",
    "            my_acc = rmse(true, my_preds)\n",
    "            acc[k] = my_acc\n",
    "            \n",
    "            my_preds = linear_reg.predict(curr_fold_train.iloc[:, :-1])\n",
    "            true = curr_fold_train.iloc[:, -1].values\n",
    "            train_acc = rmse(true, my_preds)\n",
    "            \n",
    "            print(k, \"| validation rmse: %8.2f\"% my_acc) # for showcasing\n",
    "            print(k, \"| train rmse: %8.2f\"% train_acc) # for showcasing\n",
    "    acc = {k: acc[k] for k in acc.keys()}\n",
    "    \n",
    "    x = acc\n",
    "    sorted_by_value = sorted(x.items(), key=lambda kv: kv[1])\n",
    "    return sorted([x[0] for x in sorted_by_value if sorted_by_value[0][1] == x[1]])[0], acc"
   ]
  },
  {
   "cell_type": "code",
   "execution_count": 76,
   "metadata": {},
   "outputs": [
    {
     "name": "stdout",
     "output_type": "stream",
     "text": [
      "1 | validation rmse:    14.04\n",
      "1 | train rmse:     0.00\n",
      "2 | validation rmse:    13.92\n",
      "2 | train rmse:     4.64\n",
      "3 | validation rmse:    13.22\n",
      "3 | train rmse:     5.45\n",
      "4 | validation rmse:    12.36\n",
      "4 | train rmse:     6.08\n",
      "5 | validation rmse:    12.09\n",
      "5 | train rmse:     6.20\n",
      "6 | validation rmse:    11.67\n",
      "6 | train rmse:     6.46\n",
      "7 | validation rmse:    11.96\n",
      "7 | train rmse:     6.60\n",
      "8 | validation rmse:    11.84\n",
      "8 | train rmse:     6.80\n",
      "9 | validation rmse:    11.72\n",
      "9 | train rmse:     6.88\n",
      "10 | validation rmse:    11.70\n",
      "10 | train rmse:     6.96\n",
      "12 | validation rmse:    11.65\n",
      "12 | train rmse:     7.12\n",
      "14 | validation rmse:    11.68\n",
      "14 | train rmse:     7.18\n",
      "15 | validation rmse:    11.70\n",
      "15 | train rmse:     7.20\n",
      "1 | validation rmse:     9.58\n",
      "1 | train rmse:     0.00\n",
      "2 | validation rmse:     9.79\n",
      "2 | train rmse:     6.20\n",
      "3 | validation rmse:     9.05\n",
      "3 | train rmse:     7.35\n",
      "4 | validation rmse:     8.63\n",
      "4 | train rmse:     7.48\n",
      "5 | validation rmse:     8.28\n",
      "5 | train rmse:     7.75\n",
      "6 | validation rmse:     7.92\n",
      "6 | train rmse:     7.93\n",
      "7 | validation rmse:     8.14\n",
      "7 | train rmse:     8.08\n",
      "8 | validation rmse:     8.05\n",
      "8 | train rmse:     8.16\n",
      "9 | validation rmse:     8.01\n",
      "9 | train rmse:     8.23\n",
      "10 | validation rmse:     7.73\n",
      "10 | train rmse:     8.36\n",
      "12 | validation rmse:     7.60\n",
      "12 | train rmse:     8.56\n",
      "14 | validation rmse:     7.52\n",
      "14 | train rmse:     8.65\n",
      "15 | validation rmse:     7.37\n",
      "15 | train rmse:     8.67\n",
      "1 | validation rmse:    11.20\n",
      "1 | train rmse:     0.00\n",
      "2 | validation rmse:     9.08\n",
      "2 | train rmse:     5.66\n",
      "3 | validation rmse:     8.81\n",
      "3 | train rmse:     7.11\n",
      "4 | validation rmse:     8.27\n",
      "4 | train rmse:     7.60\n",
      "5 | validation rmse:     8.13\n",
      "5 | train rmse:     8.01\n",
      "6 | validation rmse:     8.25\n",
      "6 | train rmse:     8.29\n",
      "7 | validation rmse:     7.95\n",
      "7 | train rmse:     8.39\n",
      "8 | validation rmse:     7.92\n",
      "8 | train rmse:     8.39\n",
      "9 | validation rmse:     7.90\n",
      "9 | train rmse:     8.48\n",
      "10 | validation rmse:     7.85\n",
      "10 | train rmse:     8.58\n",
      "12 | validation rmse:     7.59\n",
      "12 | train rmse:     8.53\n",
      "14 | validation rmse:     7.65\n",
      "14 | train rmse:     8.64\n",
      "15 | validation rmse:     7.60\n",
      "15 | train rmse:     8.63\n",
      "1 | validation rmse:    11.97\n",
      "1 | train rmse:     0.00\n",
      "2 | validation rmse:     9.94\n",
      "2 | train rmse:     5.44\n",
      "3 | validation rmse:     8.62\n",
      "3 | train rmse:     6.61\n",
      "4 | validation rmse:     8.27\n",
      "4 | train rmse:     7.56\n",
      "5 | validation rmse:     8.12\n",
      "5 | train rmse:     7.77\n",
      "6 | validation rmse:     8.12\n",
      "6 | train rmse:     7.99\n",
      "7 | validation rmse:     8.18\n",
      "7 | train rmse:     8.09\n",
      "8 | validation rmse:     8.18\n",
      "8 | train rmse:     8.12\n",
      "9 | validation rmse:     8.31\n",
      "9 | train rmse:     8.33\n",
      "10 | validation rmse:     8.29\n",
      "10 | train rmse:     8.36\n",
      "12 | validation rmse:     8.43\n",
      "12 | train rmse:     8.57\n",
      "14 | validation rmse:     8.44\n",
      "14 | train rmse:     8.56\n",
      "15 | validation rmse:     8.45\n",
      "15 | train rmse:     8.50\n"
     ]
    }
   ],
   "source": [
    "k_to_test = [1, 2, 3, 4, 5, 6, 7, 8, 9, 10,12, 14, 15]\n",
    "cross_vals = 5\n",
    "acsc = cross(data, k_to_test, cross_vals, KNeighborsRegressor)"
   ]
  },
  {
   "cell_type": "code",
   "execution_count": 77,
   "metadata": {
    "scrolled": true
   },
   "outputs": [
    {
     "name": "stdout",
     "output_type": "stream",
     "text": [
      "best among the set\n",
      "{'n_neighbors': 6, 'TEST rmse': 9.125369651346336}\n"
     ]
    }
   ],
   "source": [
    "print ('best among the set')\n",
    "print(acsc)"
   ]
  },
  {
   "cell_type": "markdown",
   "metadata": {},
   "source": [
    "# Q2 b\n",
    "Now the features were not in the same scale in the above solution. This would definelty affect the performance of the Regressor as the distances between points can be changed drastically by choosing different units for each of the axis."
   ]
  },
  {
   "cell_type": "code",
   "execution_count": 94,
   "metadata": {
    "scrolled": true
   },
   "outputs": [
    {
     "name": "stderr",
     "output_type": "stream",
     "text": [
      "/home/apoorv/miniconda3/envs/ml/lib/python3.6/site-packages/sklearn/preprocessing/data.py:323: DataConversionWarning: Data with input dtype int64, float64 were all converted to float64 by MinMaxScaler.\n",
      "  return self.partial_fit(X, y)\n"
     ]
    }
   ],
   "source": [
    "from sklearn.preprocessing import MinMaxScaler\n",
    "data_loc = \"../../data/real_estate/dataset.xlsx\"\n",
    "data = pd.read_excel(data_loc)\n",
    "X = data.iloc[:, 1:-1]\n",
    "y = data.iloc[:, -1]\n",
    "# scaling the features\n",
    "scaler = MinMaxScaler()\n",
    "X[X.columns] = scaler.fit_transform(X[X.columns])"
   ]
  },
  {
   "cell_type": "code",
   "execution_count": 100,
   "metadata": {},
   "outputs": [
    {
     "name": "stdout",
     "output_type": "stream",
     "text": [
      "1 | validation rmse:    11.34\n",
      "1 | train rmse:     0.54\n",
      "2 | validation rmse:    11.79\n",
      "2 | train rmse:     5.59\n",
      "3 | validation rmse:    11.44\n",
      "3 | train rmse:     6.53\n",
      "4 | validation rmse:    11.22\n",
      "4 | train rmse:     6.92\n",
      "5 | validation rmse:    11.06\n",
      "5 | train rmse:     7.03\n",
      "6 | validation rmse:    11.00\n",
      "6 | train rmse:     7.08\n",
      "7 | validation rmse:    10.95\n",
      "7 | train rmse:     7.27\n",
      "8 | validation rmse:    11.02\n",
      "8 | train rmse:     7.41\n",
      "9 | validation rmse:    11.07\n",
      "9 | train rmse:     7.58\n",
      "10 | validation rmse:    11.25\n",
      "10 | train rmse:     7.76\n",
      "12 | validation rmse:    11.24\n",
      "12 | train rmse:     7.95\n",
      "14 | validation rmse:    11.35\n",
      "14 | train rmse:     8.09\n",
      "15 | validation rmse:    11.32\n",
      "15 | train rmse:     8.23\n",
      "1 | validation rmse:     8.45\n",
      "1 | train rmse:     0.25\n",
      "2 | validation rmse:    10.73\n",
      "2 | train rmse:     6.43\n",
      "3 | validation rmse:     8.86\n",
      "3 | train rmse:     7.09\n",
      "4 | validation rmse:     7.61\n",
      "4 | train rmse:     7.65\n",
      "5 | validation rmse:     6.93\n",
      "5 | train rmse:     8.00\n",
      "6 | validation rmse:     6.64\n",
      "6 | train rmse:     8.30\n",
      "7 | validation rmse:     6.41\n",
      "7 | train rmse:     8.64\n",
      "8 | validation rmse:     6.42\n",
      "8 | train rmse:     8.72\n",
      "9 | validation rmse:     6.40\n",
      "9 | train rmse:     8.93\n",
      "10 | validation rmse:     6.86\n",
      "10 | train rmse:     9.19\n",
      "12 | validation rmse:     6.87\n",
      "12 | train rmse:     9.38\n",
      "14 | validation rmse:     6.76\n",
      "14 | train rmse:     9.63\n",
      "15 | validation rmse:     6.59\n",
      "15 | train rmse:     9.68\n",
      "1 | validation rmse:    13.20\n",
      "1 | train rmse:     0.58\n",
      "2 | validation rmse:    11.56\n",
      "2 | train rmse:     5.02\n",
      "3 | validation rmse:    11.28\n",
      "3 | train rmse:     6.15\n",
      "4 | validation rmse:    11.21\n",
      "4 | train rmse:     6.51\n",
      "5 | validation rmse:    11.12\n",
      "5 | train rmse:     6.76\n",
      "6 | validation rmse:    11.17\n",
      "6 | train rmse:     6.98\n",
      "7 | validation rmse:    11.24\n",
      "7 | train rmse:     7.12\n",
      "8 | validation rmse:    11.29\n",
      "8 | train rmse:     7.33\n",
      "9 | validation rmse:    11.39\n",
      "9 | train rmse:     7.42\n",
      "10 | validation rmse:    11.62\n",
      "10 | train rmse:     7.53\n",
      "12 | validation rmse:    11.69\n",
      "12 | train rmse:     7.64\n",
      "14 | validation rmse:    11.74\n",
      "14 | train rmse:     7.84\n",
      "15 | validation rmse:    11.76\n",
      "15 | train rmse:     7.90\n",
      "1 | validation rmse:    11.49\n",
      "1 | train rmse:     0.54\n",
      "2 | validation rmse:     7.95\n",
      "2 | train rmse:     6.78\n",
      "3 | validation rmse:     7.15\n",
      "3 | train rmse:     7.82\n",
      "4 | validation rmse:     6.87\n",
      "4 | train rmse:     8.04\n",
      "5 | validation rmse:     6.87\n",
      "5 | train rmse:     8.37\n",
      "6 | validation rmse:     7.03\n",
      "6 | train rmse:     8.54\n",
      "7 | validation rmse:     6.98\n",
      "7 | train rmse:     8.57\n",
      "8 | validation rmse:     6.93\n",
      "8 | train rmse:     8.84\n",
      "9 | validation rmse:     7.05\n",
      "9 | train rmse:     8.92\n",
      "10 | validation rmse:     7.18\n",
      "10 | train rmse:     9.11\n",
      "12 | validation rmse:     7.38\n",
      "12 | train rmse:     9.30\n",
      "14 | validation rmse:     7.61\n",
      "14 | train rmse:     9.41\n",
      "15 | validation rmse:     7.79\n",
      "15 | train rmse:     9.49\n"
     ]
    }
   ],
   "source": [
    "k_to_test = [1, 2, 3, 4, 5, 6, 7, 8, 9, 10,12, 14, 15]\n",
    "cross_vals = 5\n",
    "new_data = pd.concat([X, y], axis=1)\n",
    "acsc = cross(new_data, k_to_test, cross_vals, KNeighborsRegressor)"
   ]
  },
  {
   "cell_type": "code",
   "execution_count": 101,
   "metadata": {
    "scrolled": true
   },
   "outputs": [
    {
     "name": "stdout",
     "output_type": "stream",
     "text": [
      "best among the set\n",
      "{'n_neighbors': 5, 'TEST rmse': 7.021402820019344}\n"
     ]
    }
   ],
   "source": [
    "print ('best among the set')\n",
    "print(acsc)"
   ]
  },
  {
   "cell_type": "markdown",
   "metadata": {},
   "source": [
    "# Q2 c"
   ]
  },
  {
   "cell_type": "code",
   "execution_count": 104,
   "metadata": {},
   "outputs": [],
   "source": [
    "k_to_test = [1, 2, 3, 4, 5, 6, 7, 8, 9, 10,12, 14, 15, 20, 25, 30, 35]\n",
    "tupl = train_test_split(new_data, test_size=.2)\n",
    "data_train, data_test = tupl"
   ]
  },
  {
   "cell_type": "code",
   "execution_count": 106,
   "metadata": {},
   "outputs": [],
   "source": [
    "X_train = data_train.iloc[:, :-1]\n",
    "y_train = data_train.iloc[:, -1]\n",
    "X_test = data_test.iloc[:, :-1]\n",
    "y_test = data_test.iloc[:, -1]"
   ]
  },
  {
   "cell_type": "code",
   "execution_count": 121,
   "metadata": {},
   "outputs": [],
   "source": [
    "accs = []\n",
    "accss = []\n",
    "for k in k_to_test:\n",
    "    nn = KNeighborsRegressor(n_neighbors=k)\n",
    "    nn.fit(X_train, y_train)\n",
    "    y_train_pred = nn.predict(X_train)\n",
    "    accss.append(rmse(y_train_pred, y_train.values))\n",
    "    y_pred = nn.predict(X_test)\n",
    "    accs.append(rmse(y_pred, y_test.values))"
   ]
  },
  {
   "cell_type": "code",
   "execution_count": 122,
   "metadata": {
    "scrolled": true
   },
   "outputs": [
    {
     "data": {
      "image/png": "[encoded data removed]",
      "text/plain": [
       "<Figure size 432x288 with 1 Axes>"
      ]
     },
     "metadata": {
      "needs_background": "light"
     },
     "output_type": "display_data"
    }
   ],
   "source": [
    "plt.plot(k_to_test, accss)\n",
    "plt.xlabel('k')\n",
    "plt.ylabel('rmse')\n",
    "plt.title('train rmse')\n",
    "plt.show()"
   ]
  },
  {
   "cell_type": "markdown",
   "metadata": {},
   "source": [
    "In the case of training, when we try to predict a point that is already in the training set. Thus, the prediction can be directly returned as the original point's `y` value (i.e. we get a very high accuracy | `rmse` = 0).\n",
    "\n",
    "Now once we start to increase the value of `k` the predicition that is returned is a `weighted mean` (can also be normal `mean`) of the `k` closest points. Now since all these `k` points can't be same all the time, we would recive a predicition that is not exactly as the original prediction, therefore we get higher `rmse`. Increasing the number `k` would lead to more number of points being averaged and therefore the decrease it the accuracy (increasing rmse)."
   ]
  },
  {
   "cell_type": "code",
   "execution_count": 123,
   "metadata": {
    "scrolled": true
   },
   "outputs": [
    {
     "data": {
      "image/png": "[encoded data removed]",
      "text/plain": [
       "<Figure size 432x288 with 1 Axes>"
      ]
     },
     "metadata": {
      "needs_background": "light"
     },
     "output_type": "display_data"
    }
   ],
   "source": [
    "plt.plot(k_to_test, accs)\n",
    "plt.xlabel('k')\n",
    "plt.ylabel('rmse')\n",
    "plt.title('test rmse')\n",
    "plt.show()"
   ]
  },
  {
   "cell_type": "markdown",
   "metadata": {},
   "source": [
    "We see that, initially we have a increase in accuracy (decrease in rmse) due to better **generalization** as we are taking multiple values and averaging the results that are closest to the given test points. i.e. Initially we were having **high variance (overfitting)** in the model and increasing the value of `k` leads to better fitting. \n",
    "\n",
    "After a minima, we see that our Regressors accuracy goes on decreasing (rmse increases) as the critical point has been crossed and the Regressor is becoming more **baised** and **underfitted** and if we keep on increasing the value of `k`, any sample would be predicted as the average of the whole data."
   ]
  },
  {
   "cell_type": "markdown",
   "metadata": {},
   "source": [
    "# Q2 c i"
   ]
  },
  {
   "cell_type": "code",
   "execution_count": 114,
   "metadata": {},
   "outputs": [
    {
     "name": "stdout",
     "output_type": "stream",
     "text": [
      "the 9th home gave us the worst rmse\n"
     ]
    }
   ],
   "source": [
    "nn = KNeighborsRegressor(n_neighbors=6) # we take 6 as it got us best rmse\n",
    "nn.fit(X_train, y_train)\n",
    "y_pred = nn.predict(X_test)\n",
    "a = np.argmax(y_pred - y_test.values)\n",
    "print ('the {}th home gave us the worst rmse'.format(a))"
   ]
  },
  {
   "cell_type": "code",
   "execution_count": 115,
   "metadata": {},
   "outputs": [
    {
     "name": "stdout",
     "output_type": "stream",
     "text": [
      "X1 transaction date                       0.818182\n",
      "X2 house age                              0.301370\n",
      "X3 distance to the nearest MRT station    0.022700\n",
      "X4 number of convenience stores           0.100000\n",
      "X5 latitude                               0.504605\n",
      "X6 longitude                              0.607181\n",
      "Name: 273, dtype: float64\n"
     ]
    }
   ],
   "source": [
    "print (X_test.iloc[9, :])"
   ]
  },
  {
   "cell_type": "code",
   "execution_count": 116,
   "metadata": {},
   "outputs": [
    {
     "name": "stdout",
     "output_type": "stream",
     "text": [
      "X1 transaction date                       0.454545\n",
      "X2 house age                              0.470320\n",
      "X3 distance to the nearest MRT station    0.110530\n",
      "X4 number of convenience stores           0.200000\n",
      "X5 latitude                               0.591978\n",
      "X6 longitude                              0.796420\n",
      "Name: 115, dtype: float64\n"
     ]
    }
   ],
   "source": [
    "print (X_test.iloc[0, :])"
   ]
  },
  {
   "cell_type": "code",
   "execution_count": 117,
   "metadata": {},
   "outputs": [
    {
     "name": "stdout",
     "output_type": "stream",
     "text": [
      "X1 transaction date                       0.909091\n",
      "X2 house age                              0.127854\n",
      "X3 distance to the nearest MRT station    0.369025\n",
      "X4 number of convenience stores           0.000000\n",
      "X5 latitude                               0.278478\n",
      "X6 longitude                              0.928510\n",
      "Name: 359, dtype: float64\n"
     ]
    }
   ],
   "source": [
    "print (X_test.iloc[4, :])"
   ]
  },
  {
   "cell_type": "markdown",
   "metadata": {},
   "source": [
    "The reason that this home gave us the worse rmse could be multiple based on the data, as we are not able to visualize the data, we currently with the given knowledge can't pinpoint exact reason for the erronous behaviour. What we can say is that this home might be noisy (given features are not able to correlate to the high difference in the price). To improve the rmse error on this house we can try to use different units (scaling factors) for the features rather than scaling them to be same.\n",
    "\n",
    "According to me scaling all the features to the same scale is not such a great idea because, effectively we are saying that all the features matter the same (because if a differance of $\\delta_1$ in `feature1` is compared to the difference of $\\delta_2$ in `feature2` both would result in increase or decrease in distance between points if the environments remain exactly the same). This can't be said as there could be some features that affect the price more than the others. A naive made-up example could be `feature1 = #of cows in a farm 5 kms from house` and `feature2 = sq. ft. area of the house`, clearly if `feature1` is given equal importance as `feature2` we would not be getting good results."
   ]
  },
  {
   "cell_type": "markdown",
   "metadata": {},
   "source": [
    "# Q3\n",
    "-- citations: https://docs.scipy.org/doc/scipy-0.18.1/reference/generated/scipy.spatial.Voronoi.html"
   ]
  },
  {
   "cell_type": "code",
   "execution_count": 19,
   "metadata": {},
   "outputs": [],
   "source": [
    "# points = "
   ]
  },
  {
   "cell_type": "code",
   "execution_count": null,
   "metadata": {},
   "outputs": [],
   "source": [
    "# points = np.array([[0, 0], [0, 1], [0, 2], [1, 0], [1, 1], [1, 2],\n",
    "#                    [2, 0], [2, 1], [2, 2]])\n",
    "# from scipy.spatial import Voronoi, voronoi_plot_2d\n",
    "# vor = Voronoi(points)"
   ]
  },
  {
   "cell_type": "code",
   "execution_count": null,
   "metadata": {},
   "outputs": [],
   "source": [
    "# import matplotlib.pyplot as plt\n",
    "# voronoi_plot_2d(vor)\n",
    "# plt.show()"
   ]
  }
 ],
 "metadata": {
  "kernelspec": {
   "display_name": "Python 3",
   "language": "python",
   "name": "python3"
  },
  "language_info": {
   "codemirror_mode": {
    "name": "ipython",
    "version": 3
   },
   "file_extension": ".py",
   "mimetype": "text/x-python",
   "name": "python",
   "nbconvert_exporter": "python",
   "pygments_lexer": "ipython3",
   "version": "3.6.8"
  }
 },
 "nbformat": 4,
 "nbformat_minor": 2
}
