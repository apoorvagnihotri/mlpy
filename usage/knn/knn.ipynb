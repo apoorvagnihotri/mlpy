{
 "cells": [
  {
   "cell_type": "markdown",
   "metadata": {},
   "source": [
    "# Q1 a"
   ]
  },
  {
   "cell_type": "code",
   "execution_count": 92,
   "metadata": {},
   "outputs": [],
   "source": [
    "# %load_ext autoreload\n",
    "# %autoreload 2\n",
    "\n",
    "# adding relavent directory in includes\n",
    "import sys\n",
    "dirr = \"../../src\"\n",
    "if dirr not in sys.path:\n",
    "    sys.path.append(dirr)\n",
    "\n",
    "import pandas as pd\n",
    "import numpy as np\n",
    "from sklearn.model_selection import train_test_split\n",
    "from knn import KNNClassifier\n",
    "from utils import train_timer\n",
    "import pandas as pd\n",
    "import matplotlib.pyplot as plt\n",
    "from mpl_toolkits.mplot3d import Axes3D\n",
    "from matplotlib import cm\n",
    "from matplotlib.ticker import LinearLocator, FormatStrFormatter"
   ]
  },
  {
   "cell_type": "code",
   "execution_count": 93,
   "metadata": {},
   "outputs": [
    {
     "data": {
      "text/html": [
       "<div>\n",
       "<style scoped>\n",
       "    .dataframe tbody tr th:only-of-type {\n",
       "        vertical-align: middle;\n",
       "    }\n",
       "\n",
       "    .dataframe tbody tr th {\n",
       "        vertical-align: top;\n",
       "    }\n",
       "\n",
       "    .dataframe thead th {\n",
       "        text-align: right;\n",
       "    }\n",
       "</style>\n",
       "<table border=\"1\" class=\"dataframe\">\n",
       "  <thead>\n",
       "    <tr style=\"text-align: right;\">\n",
       "      <th></th>\n",
       "      <th>5.1</th>\n",
       "      <th>3.5</th>\n",
       "      <th>1.4</th>\n",
       "      <th>0.2</th>\n",
       "      <th>Iris-setosa</th>\n",
       "    </tr>\n",
       "  </thead>\n",
       "  <tbody>\n",
       "    <tr>\n",
       "      <th>0</th>\n",
       "      <td>4.9</td>\n",
       "      <td>3.0</td>\n",
       "      <td>1.4</td>\n",
       "      <td>0.2</td>\n",
       "      <td>Iris-setosa</td>\n",
       "    </tr>\n",
       "    <tr>\n",
       "      <th>1</th>\n",
       "      <td>4.7</td>\n",
       "      <td>3.2</td>\n",
       "      <td>1.3</td>\n",
       "      <td>0.2</td>\n",
       "      <td>Iris-setosa</td>\n",
       "    </tr>\n",
       "    <tr>\n",
       "      <th>2</th>\n",
       "      <td>4.6</td>\n",
       "      <td>3.1</td>\n",
       "      <td>1.5</td>\n",
       "      <td>0.2</td>\n",
       "      <td>Iris-setosa</td>\n",
       "    </tr>\n",
       "    <tr>\n",
       "      <th>3</th>\n",
       "      <td>5.0</td>\n",
       "      <td>3.6</td>\n",
       "      <td>1.4</td>\n",
       "      <td>0.2</td>\n",
       "      <td>Iris-setosa</td>\n",
       "    </tr>\n",
       "    <tr>\n",
       "      <th>4</th>\n",
       "      <td>5.4</td>\n",
       "      <td>3.9</td>\n",
       "      <td>1.7</td>\n",
       "      <td>0.4</td>\n",
       "      <td>Iris-setosa</td>\n",
       "    </tr>\n",
       "  </tbody>\n",
       "</table>\n",
       "</div>"
      ],
      "text/plain": [
       "   5.1  3.5  1.4  0.2  Iris-setosa\n",
       "0  4.9  3.0  1.4  0.2  Iris-setosa\n",
       "1  4.7  3.2  1.3  0.2  Iris-setosa\n",
       "2  4.6  3.1  1.5  0.2  Iris-setosa\n",
       "3  5.0  3.6  1.4  0.2  Iris-setosa\n",
       "4  5.4  3.9  1.7  0.4  Iris-setosa"
      ]
     },
     "execution_count": 93,
     "metadata": {},
     "output_type": "execute_result"
    }
   ],
   "source": [
    "data = pd.read_csv(\"../../data/iris/iris.csv\")\n",
    "data.head(5)"
   ]
  },
  {
   "cell_type": "code",
   "execution_count": 94,
   "metadata": {
    "scrolled": false
   },
   "outputs": [
    {
     "name": "stdout",
     "output_type": "stream",
     "text": [
      "acc: 0.9798657718120806\n"
     ]
    }
   ],
   "source": [
    "knns = KNNClassifier()\n",
    "knns.train(data.iloc[:, :-1].values, data.iloc[:, -1].values)\n",
    "y_pred = knns.predict(data.iloc[:, :-1].values)\n",
    "corr = np.sum(y_pred == data.iloc[:, -1].values)\n",
    "print ('acc:', corr / len(y_pred))"
   ]
  },
  {
   "cell_type": "markdown",
   "metadata": {},
   "source": [
    "# Q1 b"
   ]
  },
  {
   "cell_type": "code",
   "execution_count": 95,
   "metadata": {},
   "outputs": [],
   "source": [
    "samples = [2 ** i for i in range(2, 14)]\n",
    "features = [2 ** i for i in range(2, 14)]\n",
    "k = 3\n",
    "dist_metric = 'euclidian'\n",
    "\n",
    "train_vals = []\n",
    "test_vals = []\n",
    "\n",
    "for i, sample in enumerate(samples):\n",
    "    for j, feature in enumerate(features):\n",
    "        y = np.zeros(sample)\n",
    "        x = np.random.rand(sample, feature)\n",
    "        model = KNNClassifier(k = 2, dist_metric='euclidian')\n",
    "        train_vals.append((i, j, train_timer(model.train, X=x, y=y)))\n",
    "        \n",
    "        x_test = np.random.rand(2, feature)\n",
    "        test_vals.append((i, j, train_timer(model.predict, X_test=x_test)))\n",
    "\n",
    "# print (train_vals)\n",
    "# print (test_vals)"
   ]
  },
  {
   "cell_type": "code",
   "execution_count": 96,
   "metadata": {},
   "outputs": [
    {
     "data": {
      "image/png": "[encoded data removed]",
      "text/plain": [
       "<Figure size 432x288 with 2 Axes>"
      ]
     },
     "metadata": {
      "needs_background": "light"
     },
     "output_type": "display_data"
    }
   ],
   "source": [
    "# Taken from https://stackoverflow.com/questions/9170838/surface-plots-in-matplotlib\n",
    "import pandas as pd\n",
    "from scipy.interpolate import griddata\n",
    "from matplotlib.ticker import LinearLocator, FormatStrFormatter\n",
    "x, y, z = zip(*train_vals)\n",
    "xyz = {'x': x, 'y': y, 'z': z}\n",
    "\n",
    "df = pd.DataFrame(xyz, index=range(len(xyz['x']))) \n",
    "\n",
    "x1 = np.linspace(df['x'].min(), df['x'].max(), len(df['x'].unique()))\n",
    "y1 = np.linspace(df['y'].min(), df['y'].max(), len(df['y'].unique()))\n",
    "x2, y2 = np.meshgrid(x1, y1)\n",
    "z2 = griddata((df['x'], df['y']), df['z'], (x2, y2), method='cubic')\n",
    "\n",
    "fig = plt.figure()\n",
    "ax = fig.gca(projection='3d')\n",
    "surf = ax.plot_surface(x2, y2, z2, rstride=1, cstride=1, cmap=cm.coolwarm,\n",
    "    linewidth=0, antialiased=False)\n",
    "\n",
    "ax.zaxis.set_major_locator(LinearLocator(10))\n",
    "ax.zaxis.set_major_formatter(FormatStrFormatter('%.02f'))\n",
    "ax.set_xlabel('# of samples')\n",
    "ax.set_ylabel('# of features')\n",
    "ax.set_zlabel('Time Taken')\n",
    "\n",
    "fig.colorbar(surf, shrink=0.5, aspect=5)\n",
    "plt.title('Training times')\n",
    "\n",
    "plt.show()"
   ]
  },
  {
   "cell_type": "code",
   "execution_count": 97,
   "metadata": {},
   "outputs": [
    {
     "data": {
      "image/png": "[encoded data removed]",
      "text/plain": [
       "<Figure size 432x288 with 2 Axes>"
      ]
     },
     "metadata": {
      "needs_background": "light"
     },
     "output_type": "display_data"
    }
   ],
   "source": [
    "# Taken from https://stackoverflow.com/questions/9170838/surface-plots-in-matplotlib\n",
    "import pandas as pd\n",
    "from scipy.interpolate import griddata\n",
    "from matplotlib.ticker import LinearLocator, FormatStrFormatter\n",
    "x, y, z = zip(*test_vals)\n",
    "xyz = {'x': x, 'y': y, 'z': z}\n",
    "\n",
    "df = pd.DataFrame(xyz, index=range(len(xyz['x']))) \n",
    "\n",
    "x1 = np.linspace(df['x'].min(), df['x'].max(), len(df['x'].unique()))\n",
    "y1 = np.linspace(df['y'].min(), df['y'].max(), len(df['y'].unique()))\n",
    "x2, y2 = np.meshgrid(x1, y1)\n",
    "z2 = griddata((df['x'], df['y']), df['z'], (x2, y2), method='cubic')\n",
    "\n",
    "fig = plt.figure()\n",
    "ax = fig.gca(projection='3d')\n",
    "surf = ax.plot_surface(x2, y2, z2, rstride=1, cstride=1, cmap=cm.coolwarm,\n",
    "    linewidth=0, antialiased=False)\n",
    "\n",
    "ax.zaxis.set_major_locator(LinearLocator(10))\n",
    "ax.zaxis.set_major_formatter(FormatStrFormatter('%.02f'))\n",
    "ax.set_xlabel('# of samples')\n",
    "ax.set_ylabel('# of features')\n",
    "ax.set_zlabel('Time Taken')\n",
    "\n",
    "fig.colorbar(surf, shrink=0.5, aspect=5)\n",
    "plt.title('Predicting times')\n",
    "\n",
    "plt.show()"
   ]
  },
  {
   "cell_type": "markdown",
   "metadata": {},
   "source": [
    "The theoretical running time complexity for:\n",
    "\n",
    "- Training: $O(const)$\n",
    "\n",
    "- Predicting: $O(k \\times n \\times m)$\n",
    "\n",
    "Where $n$ is the number of samples, and $m$ is the number of features.\n",
    "\n",
    "The `x` and `y` axis in above plots denote the number of samples and features that were used to time the knn function. The `z` axis denotes the time taken for completion of one training or predition task.\n",
    "\n",
    "Although in training we see that there is presence of noise in the measurements. Also, we see training time seems to increase, this is probably because the time taken to save `n` is not constant, due to the implementation details. We also notice that we get spikes due to other factors like background processes affecting the timings here.\n",
    "\n",
    "In the case of prediction, we notice that there seems to be a polynomial increase in the time taken instead of the linear time as expected, thus we plot a few more plots to confirm this."
   ]
  },
  {
   "cell_type": "code",
   "execution_count": 98,
   "metadata": {},
   "outputs": [],
   "source": [
    "samples = [2 ** i for i in range(2, 13)]\n",
    "features = [2 ** i for i in range(2, 16)]\n",
    "sample = 20\n",
    "training_time = []\n",
    "pred_time = []\n",
    "for j, feature in enumerate(features):\n",
    "    y = np.ones(sample)\n",
    "    x = np.random.rand(sample, feature)\n",
    "    model = KNNClassifier(k = 3, dist_metric='euclidian')\n",
    "    training_time.append(train_timer(model.train, X=x, y=y))\n",
    "    x_test = np.random.rand(2, feature)\n",
    "    pred_time.append(train_timer(model.predict, X_test=x))\n"
   ]
  },
  {
   "cell_type": "code",
   "execution_count": 99,
   "metadata": {
    "scrolled": true
   },
   "outputs": [
    {
     "data": {
      "text/plain": [
       "Text(0, 0.5, 'training time')"
      ]
     },
     "execution_count": 99,
     "metadata": {},
     "output_type": "execute_result"
    },
    {
     "data": {
      "image/png": "[encoded data removed]",
      "text/plain": [
       "<Figure size 432x288 with 1 Axes>"
      ]
     },
     "metadata": {
      "needs_background": "light"
     },
     "output_type": "display_data"
    }
   ],
   "source": [
    "plt.plot(features, training_time)\n",
    "plt.title('training time vs features')\n",
    "plt.xlabel('# features')\n",
    "plt.ylabel('training time')"
   ]
  },
  {
   "cell_type": "code",
   "execution_count": 100,
   "metadata": {
    "scrolled": true
   },
   "outputs": [
    {
     "data": {
      "text/plain": [
       "Text(0, 0.5, 'predicting time')"
      ]
     },
     "execution_count": 100,
     "metadata": {},
     "output_type": "execute_result"
    },
    {
     "data": {
      "image/png": "[encoded data removed]",
      "text/plain": [
       "<Figure size 432x288 with 1 Axes>"
      ]
     },
     "metadata": {
      "needs_background": "light"
     },
     "output_type": "display_data"
    }
   ],
   "source": [
    "plt.plot(features, pred_time)\n",
    "plt.title('predicting time vs features')\n",
    "plt.xlabel('# features')\n",
    "plt.ylabel('predicting time')"
   ]
  },
  {
   "cell_type": "code",
   "execution_count": 102,
   "metadata": {},
   "outputs": [],
   "source": [
    "feature = 20\n",
    "training_time = []\n",
    "pred_time = []\n",
    "for j, sample in enumerate(samples):\n",
    "    y = np.ones(sample)\n",
    "    x = np.random.rand(sample, feature)\n",
    "    model = KNNClassifier(k = 3, dist_metric='euclidian')\n",
    "    training_time.append(train_timer(model.train, X=x, y=y))\n",
    "    x_test = np.random.rand(2, feature)\n",
    "    pred_time.append(train_timer(model.predict, X_test=x))"
   ]
  },
  {
   "cell_type": "code",
   "execution_count": 103,
   "metadata": {
    "scrolled": false
   },
   "outputs": [
    {
     "data": {
      "text/plain": [
       "Text(0, 0.5, 'training time')"
      ]
     },
     "execution_count": 103,
     "metadata": {},
     "output_type": "execute_result"
    },
    {
     "data": {
      "image/png": "[encoded data removed]",
      "text/plain": [
       "<Figure size 432x288 with 1 Axes>"
      ]
     },
     "metadata": {
      "needs_background": "light"
     },
     "output_type": "display_data"
    }
   ],
   "source": [
    "plt.plot(samples, training_time)\n",
    "plt.title('training time vs samples')\n",
    "plt.xlabel('# samples')\n",
    "plt.ylabel('training time')"
   ]
  },
  {
   "cell_type": "code",
   "execution_count": 104,
   "metadata": {
    "scrolled": true
   },
   "outputs": [
    {
     "data": {
      "text/plain": [
       "Text(0, 0.5, 'predicting time')"
      ]
     },
     "execution_count": 104,
     "metadata": {},
     "output_type": "execute_result"
    },
    {
     "data": {
      "image/png": "[encoded data removed]",
      "text/plain": [
       "<Figure size 432x288 with 1 Axes>"
      ]
     },
     "metadata": {
      "needs_background": "light"
     },
     "output_type": "display_data"
    }
   ],
   "source": [
    "plt.plot(samples, pred_time)\n",
    "plt.title('predicting time vs samples')\n",
    "plt.xlabel('# samples')\n",
    "plt.ylabel('predicting time')"
   ]
  },
  {
   "cell_type": "markdown",
   "metadata": {},
   "source": [
    "As it can be seen that effectively the increase in `time-taken` is nearly linear in both `n` and `m`. But in the 3d plot, the plot was misguiding and showing that the increase was higher."
   ]
  },
  {
   "cell_type": "markdown",
   "metadata": {},
   "source": [
    "# Q2"
   ]
  },
  {
   "cell_type": "code",
   "execution_count": 8,
   "metadata": {},
   "outputs": [],
   "source": [
    "from sklearn.neighbors import KNeighborsRegressor"
   ]
  },
  {
   "cell_type": "code",
   "execution_count": 11,
   "metadata": {},
   "outputs": [
    {
     "data": {
      "text/html": [
       "<div>\n",
       "<style scoped>\n",
       "    .dataframe tbody tr th:only-of-type {\n",
       "        vertical-align: middle;\n",
       "    }\n",
       "\n",
       "    .dataframe tbody tr th {\n",
       "        vertical-align: top;\n",
       "    }\n",
       "\n",
       "    .dataframe thead th {\n",
       "        text-align: right;\n",
       "    }\n",
       "</style>\n",
       "<table border=\"1\" class=\"dataframe\">\n",
       "  <thead>\n",
       "    <tr style=\"text-align: right;\">\n",
       "      <th></th>\n",
       "      <th>X1 transaction date</th>\n",
       "      <th>X2 house age</th>\n",
       "      <th>X3 distance to the nearest MRT station</th>\n",
       "      <th>X4 number of convenience stores</th>\n",
       "      <th>X5 latitude</th>\n",
       "      <th>X6 longitude</th>\n",
       "    </tr>\n",
       "  </thead>\n",
       "  <tbody>\n",
       "    <tr>\n",
       "      <th>297</th>\n",
       "      <td>2012.833333</td>\n",
       "      <td>34.9</td>\n",
       "      <td>567.0349</td>\n",
       "      <td>4</td>\n",
       "      <td>24.97003</td>\n",
       "      <td>121.54580</td>\n",
       "    </tr>\n",
       "    <tr>\n",
       "      <th>2</th>\n",
       "      <td>2013.583333</td>\n",
       "      <td>13.3</td>\n",
       "      <td>561.9845</td>\n",
       "      <td>5</td>\n",
       "      <td>24.98746</td>\n",
       "      <td>121.54391</td>\n",
       "    </tr>\n",
       "    <tr>\n",
       "      <th>267</th>\n",
       "      <td>2012.833333</td>\n",
       "      <td>34.7</td>\n",
       "      <td>482.7581</td>\n",
       "      <td>5</td>\n",
       "      <td>24.97433</td>\n",
       "      <td>121.53863</td>\n",
       "    </tr>\n",
       "    <tr>\n",
       "      <th>175</th>\n",
       "      <td>2013.083333</td>\n",
       "      <td>30.2</td>\n",
       "      <td>472.1745</td>\n",
       "      <td>3</td>\n",
       "      <td>24.97005</td>\n",
       "      <td>121.53758</td>\n",
       "    </tr>\n",
       "    <tr>\n",
       "      <th>168</th>\n",
       "      <td>2013.083333</td>\n",
       "      <td>27.6</td>\n",
       "      <td>515.1122</td>\n",
       "      <td>5</td>\n",
       "      <td>24.96299</td>\n",
       "      <td>121.54320</td>\n",
       "    </tr>\n",
       "  </tbody>\n",
       "</table>\n",
       "</div>"
      ],
      "text/plain": [
       "     X1 transaction date  X2 house age  \\\n",
       "297          2012.833333          34.9   \n",
       "2            2013.583333          13.3   \n",
       "267          2012.833333          34.7   \n",
       "175          2013.083333          30.2   \n",
       "168          2013.083333          27.6   \n",
       "\n",
       "     X3 distance to the nearest MRT station  X4 number of convenience stores  \\\n",
       "297                                567.0349                                4   \n",
       "2                                  561.9845                                5   \n",
       "267                                482.7581                                5   \n",
       "175                                472.1745                                3   \n",
       "168                                515.1122                                5   \n",
       "\n",
       "     X5 latitude  X6 longitude  \n",
       "297     24.97003     121.54580  \n",
       "2       24.98746     121.54391  \n",
       "267     24.97433     121.53863  \n",
       "175     24.97005     121.53758  \n",
       "168     24.96299     121.54320  "
      ]
     },
     "execution_count": 11,
     "metadata": {},
     "output_type": "execute_result"
    }
   ],
   "source": [
    "data_loc = \"../../data/real_estate/dataset.xlsx\"\n",
    "data = pd.read_excel(data_loc)\n",
    "X = data.iloc[:, 1:-1]\n",
    "y = data.iloc[:, -1]\n",
    "tupl = train_test_split(X, y)\n",
    "X_train, X_test, y_train, y_test = tupl\n",
    "X_train.head(5)"
   ]
  },
  {
   "cell_type": "code",
   "execution_count": 12,
   "metadata": {},
   "outputs": [
    {
     "name": "stdout",
     "output_type": "stream",
     "text": [
      "rmse: 0.1044569474193595\n"
     ]
    }
   ],
   "source": [
    "from utils import rmse\n",
    "neigh = KNeighborsRegressor(n_neighbors=3)\n",
    "neigh.fit(X_train, y_train) \n",
    "y_pred = neigh.predict(X_test)\n",
    "corr = rmse(y_pred, y_test.values)\n",
    "print ('rmse:', corr / len(y_pred))"
   ]
  },
  {
   "cell_type": "markdown",
   "metadata": {},
   "source": [
    "# Q2 a"
   ]
  },
  {
   "cell_type": "code",
   "execution_count": 13,
   "metadata": {},
   "outputs": [],
   "source": [
    "from sklearn.utils import shuffle\n",
    "\n",
    "def cross(dTrain, depths, num_valid, clf):\n",
    "    folds = make_folds(dTrain, num_valid)\n",
    "    passed_folds = folds[:-1] # holding out test\n",
    "    k, acc= best_k(passed_folds, depths, clf)\n",
    "    acc = 0\n",
    "    curr_fold_train = folds[:-1]\n",
    "    curr_fold_train = pd.concat(curr_fold_train)\n",
    "    curr_fold_test = folds[-1]\n",
    "    linear_reg = clf(n_neighbors=k)\n",
    "    linear_reg.fit(curr_fold_train.iloc[:, :-1], curr_fold_train.iloc[:, -1])\n",
    "    my_preds = linear_reg.predict(curr_fold_test.iloc[:, :-1])\n",
    "    true = curr_fold_test.iloc[:, -1].values\n",
    "    my_acc = rmse(true, my_preds)\n",
    "    return {\"n_neighbors\": k, \"TEST rmse\": my_acc}   \n",
    "\n",
    "def make_folds(dTrain, num_valid):\n",
    "    '''Make a number of folds with diven pd'''\n",
    "    train = shuffle(dTrain)\n",
    "    last = train.shape[0]\n",
    "    folds = []\n",
    "    for i in range(num_valid):\n",
    "        start = i*int(last/num_valid)\n",
    "        end = (i+1)*int(last/num_valid)\n",
    "        if end >= last:\n",
    "            end = -1\n",
    "        folds.append(train.iloc[start:end, :])\n",
    "    return folds\n",
    "\n",
    "def best_k(folds, depths, clf):\n",
    "    '''return lambda that maximizes the avg accuracy'''\n",
    "    num_valid = len(folds)\n",
    "    acc = {}\n",
    "    train_acc = {}\n",
    "    for i in range(num_valid):\n",
    "        curr_fold_train = [x for j,x in enumerate(folds) if j!=i] \n",
    "        curr_fold_validation = folds[i]\n",
    "        curr_fold_train = pd.concat(curr_fold_train)\n",
    "        for k in depths:\n",
    "            linear_reg = clf(n_neighbors=k)\n",
    "            linear_reg.fit(curr_fold_train.iloc[:, :-1], curr_fold_train.iloc[:, -1])\n",
    "            my_preds = linear_reg.predict(curr_fold_validation.iloc[:, :-1])\n",
    "            true = curr_fold_validation.iloc[:, -1].values\n",
    "            my_acc = rmse(true, my_preds)\n",
    "            acc[k] = my_acc\n",
    "            \n",
    "            my_preds = linear_reg.predict(curr_fold_train.iloc[:, :-1])\n",
    "            true = curr_fold_train.iloc[:, -1].values\n",
    "            train_acc = rmse(true, my_preds)\n",
    "            \n",
    "            print(k, \"| validation rmse: %8.2f\"% my_acc) # for showcasing\n",
    "            print(k, \"| train rmse: %8.2f\"% train_acc) # for showcasing\n",
    "    acc = {k: acc[k] for k in acc.keys()}\n",
    "    \n",
    "    x = acc\n",
    "    sorted_by_value = sorted(x.items(), key=lambda kv: kv[1])\n",
    "    return sorted([x[0] for x in sorted_by_value if sorted_by_value[0][1] == x[1]])[0], acc"
   ]
  },
  {
   "cell_type": "code",
   "execution_count": 14,
   "metadata": {},
   "outputs": [
    {
     "name": "stdout",
     "output_type": "stream",
     "text": [
      "1 | validation rmse:     9.47\n",
      "1 | train rmse:     0.00\n",
      "2 | validation rmse:     8.82\n",
      "2 | train rmse:     5.38\n",
      "3 | validation rmse:     8.27\n",
      "3 | train rmse:     6.37\n",
      "4 | validation rmse:     7.99\n",
      "4 | train rmse:     6.74\n",
      "5 | validation rmse:     8.16\n",
      "5 | train rmse:     6.86\n",
      "6 | validation rmse:     8.40\n",
      "6 | train rmse:     7.01\n",
      "7 | validation rmse:     8.27\n",
      "7 | train rmse:     7.15\n",
      "8 | validation rmse:     8.37\n",
      "8 | train rmse:     7.30\n",
      "9 | validation rmse:     8.45\n",
      "9 | train rmse:     7.38\n",
      "10 | validation rmse:     8.37\n",
      "10 | train rmse:     7.48\n",
      "12 | validation rmse:     8.45\n",
      "12 | train rmse:     7.62\n",
      "14 | validation rmse:     8.45\n",
      "14 | train rmse:     7.63\n",
      "15 | validation rmse:     8.47\n",
      "15 | train rmse:     7.65\n",
      "1 | validation rmse:     9.79\n",
      "1 | train rmse:     0.00\n",
      "2 | validation rmse:     8.83\n",
      "2 | train rmse:     5.33\n",
      "3 | validation rmse:     8.00\n",
      "3 | train rmse:     6.38\n",
      "4 | validation rmse:     7.62\n",
      "4 | train rmse:     6.98\n",
      "5 | validation rmse:     7.19\n",
      "5 | train rmse:     7.01\n",
      "6 | validation rmse:     7.47\n",
      "6 | train rmse:     7.40\n",
      "7 | validation rmse:     7.51\n",
      "7 | train rmse:     7.48\n",
      "8 | validation rmse:     7.47\n",
      "8 | train rmse:     7.61\n",
      "9 | validation rmse:     7.53\n",
      "9 | train rmse:     7.77\n",
      "10 | validation rmse:     7.74\n",
      "10 | train rmse:     7.77\n",
      "12 | validation rmse:     7.86\n",
      "12 | train rmse:     7.83\n",
      "14 | validation rmse:     7.62\n",
      "14 | train rmse:     8.04\n",
      "15 | validation rmse:     7.57\n",
      "15 | train rmse:     8.05\n",
      "1 | validation rmse:    10.82\n",
      "1 | train rmse:     0.00\n",
      "2 | validation rmse:    10.07\n",
      "2 | train rmse:     4.88\n",
      "3 | validation rmse:     9.25\n",
      "3 | train rmse:     5.76\n",
      "4 | validation rmse:     9.41\n",
      "4 | train rmse:     6.50\n",
      "5 | validation rmse:     9.16\n",
      "5 | train rmse:     6.69\n",
      "6 | validation rmse:     9.20\n",
      "6 | train rmse:     6.79\n",
      "7 | validation rmse:     9.21\n",
      "7 | train rmse:     6.84\n",
      "8 | validation rmse:     9.28\n",
      "8 | train rmse:     6.96\n",
      "9 | validation rmse:     9.20\n",
      "9 | train rmse:     7.05\n",
      "10 | validation rmse:     9.31\n",
      "10 | train rmse:     7.23\n",
      "12 | validation rmse:     9.42\n",
      "12 | train rmse:     7.38\n",
      "14 | validation rmse:     9.38\n",
      "14 | train rmse:     7.52\n",
      "15 | validation rmse:     9.46\n",
      "15 | train rmse:     7.53\n",
      "1 | validation rmse:    10.00\n",
      "1 | train rmse:     0.00\n",
      "2 | validation rmse:     9.38\n",
      "2 | train rmse:     5.23\n",
      "3 | validation rmse:     9.20\n",
      "3 | train rmse:     6.52\n",
      "4 | validation rmse:     8.73\n",
      "4 | train rmse:     6.80\n",
      "5 | validation rmse:     8.33\n",
      "5 | train rmse:     6.84\n",
      "6 | validation rmse:     8.16\n",
      "6 | train rmse:     7.04\n",
      "7 | validation rmse:     8.31\n",
      "7 | train rmse:     7.31\n",
      "8 | validation rmse:     8.43\n",
      "8 | train rmse:     7.42\n",
      "9 | validation rmse:     8.34\n",
      "9 | train rmse:     7.56\n",
      "10 | validation rmse:     8.21\n",
      "10 | train rmse:     7.61\n",
      "12 | validation rmse:     8.22\n",
      "12 | train rmse:     7.73\n",
      "14 | validation rmse:     8.01\n",
      "14 | train rmse:     7.82\n",
      "15 | validation rmse:     8.04\n",
      "15 | train rmse:     7.85\n"
     ]
    }
   ],
   "source": [
    "k_to_test = [1, 2, 3, 4, 5, 6, 7, 8, 9, 10,12, 14, 15]\n",
    "cross_vals = 5\n",
    "acsc = cross(data, k_to_test, cross_vals, KNeighborsRegressor)"
   ]
  },
  {
   "cell_type": "code",
   "execution_count": 15,
   "metadata": {
    "scrolled": true
   },
   "outputs": [
    {
     "name": "stdout",
     "output_type": "stream",
     "text": [
      "best among the set\n",
      "{'n_neighbors': 14, 'TEST rmse': 11.316586528720617}\n"
     ]
    }
   ],
   "source": [
    "print ('best among the set')\n",
    "print(acsc)"
   ]
  },
  {
   "cell_type": "markdown",
   "metadata": {},
   "source": [
    "# Q2 b\n",
    "Now the features were not in the same scale in the above solution. This would definelty affect the performance of the Regressor as the distances between points can be changed drastically by choosing different units for each of the axis."
   ]
  },
  {
   "cell_type": "code",
   "execution_count": 16,
   "metadata": {
    "scrolled": true
   },
   "outputs": [
    {
     "name": "stderr",
     "output_type": "stream",
     "text": [
      "/home/apoorv/miniconda3/envs/ml/lib/python3.6/site-packages/sklearn/preprocessing/data.py:323: DataConversionWarning: Data with input dtype int64, float64 were all converted to float64 by MinMaxScaler.\n",
      "  return self.partial_fit(X, y)\n"
     ]
    }
   ],
   "source": [
    "from sklearn.preprocessing import MinMaxScaler\n",
    "data_loc = \"../../data/real_estate/dataset.xlsx\"\n",
    "data = pd.read_excel(data_loc)\n",
    "X = data.iloc[:, 1:-1]\n",
    "y = data.iloc[:, -1]\n",
    "# scaling the features\n",
    "scaler = MinMaxScaler()\n",
    "X[X.columns] = scaler.fit_transform(X[X.columns])"
   ]
  },
  {
   "cell_type": "code",
   "execution_count": 17,
   "metadata": {},
   "outputs": [
    {
     "name": "stdout",
     "output_type": "stream",
     "text": [
      "1 | validation rmse:     9.31\n",
      "1 | train rmse:     0.74\n",
      "2 | validation rmse:     7.30\n",
      "2 | train rmse:     6.03\n",
      "3 | validation rmse:     6.91\n",
      "3 | train rmse:     7.36\n",
      "4 | validation rmse:     7.22\n",
      "4 | train rmse:     7.48\n",
      "5 | validation rmse:     6.96\n",
      "5 | train rmse:     7.73\n",
      "6 | validation rmse:     6.87\n",
      "6 | train rmse:     7.73\n",
      "7 | validation rmse:     6.95\n",
      "7 | train rmse:     7.87\n",
      "8 | validation rmse:     6.92\n",
      "8 | train rmse:     8.05\n",
      "9 | validation rmse:     7.19\n",
      "9 | train rmse:     8.10\n",
      "10 | validation rmse:     7.25\n",
      "10 | train rmse:     8.09\n",
      "12 | validation rmse:     7.55\n",
      "12 | train rmse:     8.35\n",
      "14 | validation rmse:     7.36\n",
      "14 | train rmse:     8.49\n",
      "15 | validation rmse:     7.43\n",
      "15 | train rmse:     8.57\n",
      "1 | validation rmse:     9.26\n",
      "1 | train rmse:     0.61\n",
      "2 | validation rmse:    10.08\n",
      "2 | train rmse:     5.59\n",
      "3 | validation rmse:     8.97\n",
      "3 | train rmse:     6.69\n",
      "4 | validation rmse:     8.42\n",
      "4 | train rmse:     6.97\n",
      "5 | validation rmse:     8.06\n",
      "5 | train rmse:     7.19\n",
      "6 | validation rmse:     8.08\n",
      "6 | train rmse:     7.42\n",
      "7 | validation rmse:     8.28\n",
      "7 | train rmse:     7.55\n",
      "8 | validation rmse:     8.31\n",
      "8 | train rmse:     7.69\n",
      "9 | validation rmse:     8.33\n",
      "9 | train rmse:     7.76\n",
      "10 | validation rmse:     8.37\n",
      "10 | train rmse:     7.82\n",
      "12 | validation rmse:     8.38\n",
      "12 | train rmse:     8.11\n",
      "14 | validation rmse:     8.34\n",
      "14 | train rmse:     8.30\n",
      "15 | validation rmse:     8.44\n",
      "15 | train rmse:     8.46\n",
      "1 | validation rmse:    10.65\n",
      "1 | train rmse:     0.95\n",
      "2 | validation rmse:     8.41\n",
      "2 | train rmse:     5.67\n",
      "3 | validation rmse:     8.07\n",
      "3 | train rmse:     7.04\n",
      "4 | validation rmse:     7.64\n",
      "4 | train rmse:     7.37\n",
      "5 | validation rmse:     7.76\n",
      "5 | train rmse:     7.69\n",
      "6 | validation rmse:     7.53\n",
      "6 | train rmse:     7.70\n",
      "7 | validation rmse:     7.48\n",
      "7 | train rmse:     7.93\n",
      "8 | validation rmse:     7.40\n",
      "8 | train rmse:     7.97\n",
      "9 | validation rmse:     7.41\n",
      "9 | train rmse:     8.11\n",
      "10 | validation rmse:     7.48\n",
      "10 | train rmse:     8.18\n",
      "12 | validation rmse:     7.70\n",
      "12 | train rmse:     8.47\n",
      "14 | validation rmse:     7.66\n",
      "14 | train rmse:     8.68\n",
      "15 | validation rmse:     7.45\n",
      "15 | train rmse:     8.76\n",
      "1 | validation rmse:    15.37\n",
      "1 | train rmse:     0.93\n",
      "2 | validation rmse:    13.02\n",
      "2 | train rmse:     4.21\n",
      "3 | validation rmse:    11.95\n",
      "3 | train rmse:     5.10\n",
      "4 | validation rmse:    11.92\n",
      "4 | train rmse:     5.36\n",
      "5 | validation rmse:    11.72\n",
      "5 | train rmse:     5.75\n",
      "6 | validation rmse:    11.51\n",
      "6 | train rmse:     6.03\n",
      "7 | validation rmse:    11.38\n",
      "7 | train rmse:     6.25\n",
      "8 | validation rmse:    11.38\n",
      "8 | train rmse:     6.43\n",
      "9 | validation rmse:    11.55\n",
      "9 | train rmse:     6.58\n",
      "10 | validation rmse:    11.56\n",
      "10 | train rmse:     6.75\n",
      "12 | validation rmse:    11.85\n",
      "12 | train rmse:     6.93\n",
      "14 | validation rmse:    11.89\n",
      "14 | train rmse:     6.97\n",
      "15 | validation rmse:    12.04\n",
      "15 | train rmse:     7.07\n"
     ]
    }
   ],
   "source": [
    "k_to_test = [1, 2, 3, 4, 5, 6, 7, 8, 9, 10,12, 14, 15]\n",
    "cross_vals = 5\n",
    "new_data = pd.concat([X, y], axis=1)\n",
    "acsc = cross(new_data, k_to_test, cross_vals, KNeighborsRegressor)"
   ]
  },
  {
   "cell_type": "code",
   "execution_count": 18,
   "metadata": {
    "scrolled": true
   },
   "outputs": [
    {
     "name": "stdout",
     "output_type": "stream",
     "text": [
      "best among the set\n",
      "{'n_neighbors': 8, 'TEST rmse': 8.613400980342824}\n"
     ]
    }
   ],
   "source": [
    "print ('best among the set')\n",
    "print(acsc)"
   ]
  },
  {
   "cell_type": "markdown",
   "metadata": {},
   "source": [
    "# Q2 c"
   ]
  },
  {
   "cell_type": "code",
   "execution_count": 19,
   "metadata": {},
   "outputs": [],
   "source": [
    "k_to_test = [1, 2, 3, 4, 5, 6, 7, 8, 9, 10,12, 14, 15, 20, 25, 30, 35]\n",
    "tupl = train_test_split(new_data, test_size=.2)\n",
    "data_train, data_test = tupl"
   ]
  },
  {
   "cell_type": "code",
   "execution_count": 20,
   "metadata": {},
   "outputs": [],
   "source": [
    "X_train = data_train.iloc[:, :-1]\n",
    "y_train = data_train.iloc[:, -1]\n",
    "X_test = data_test.iloc[:, :-1]\n",
    "y_test = data_test.iloc[:, -1]"
   ]
  },
  {
   "cell_type": "code",
   "execution_count": 21,
   "metadata": {},
   "outputs": [],
   "source": [
    "accs = []\n",
    "accss = []\n",
    "for k in k_to_test:\n",
    "    nn = KNeighborsRegressor(n_neighbors=k)\n",
    "    nn.fit(X_train, y_train)\n",
    "    y_train_pred = nn.predict(X_train)\n",
    "    accss.append(rmse(y_train_pred, y_train.values))\n",
    "    y_pred = nn.predict(X_test)\n",
    "    accs.append(rmse(y_pred, y_test.values))"
   ]
  },
  {
   "cell_type": "code",
   "execution_count": 22,
   "metadata": {
    "scrolled": true
   },
   "outputs": [
    {
     "data": {
      "image/png": "[encoded data removed]",
      "text/plain": [
       "<Figure size 432x288 with 1 Axes>"
      ]
     },
     "metadata": {
      "needs_background": "light"
     },
     "output_type": "display_data"
    }
   ],
   "source": [
    "plt.plot(k_to_test, accss)\n",
    "plt.xlabel('k')\n",
    "plt.ylabel('rmse')\n",
    "plt.title('train rmse')\n",
    "plt.show()"
   ]
  },
  {
   "cell_type": "markdown",
   "metadata": {},
   "source": [
    "In the case of training, when we try to predict a point that is already in the training set. Thus, the prediction can be directly returned as the original point's `y` value (i.e. we get a very high accuracy | `rmse` = 0).\n",
    "\n",
    "Now once we start to increase the value of `k` the predicition that is returned is a `weighted mean` (can also be normal `mean`) of the `k` closest points. Now since all these `k` points can't be same all the time, we would recive a predicition that is not exactly as the original prediction, therefore we get higher `rmse`. Increasing the number `k` would lead to more number of points being averaged and therefore the decrease it the accuracy (increasing rmse)."
   ]
  },
  {
   "cell_type": "code",
   "execution_count": 23,
   "metadata": {
    "scrolled": true
   },
   "outputs": [
    {
     "data": {
      "image/png": "[encoded data removed]",
      "text/plain": [
       "<Figure size 432x288 with 1 Axes>"
      ]
     },
     "metadata": {
      "needs_background": "light"
     },
     "output_type": "display_data"
    }
   ],
   "source": [
    "plt.plot(k_to_test, accs)\n",
    "plt.xlabel('k')\n",
    "plt.ylabel('rmse')\n",
    "plt.title('test rmse')\n",
    "plt.show()"
   ]
  },
  {
   "cell_type": "markdown",
   "metadata": {},
   "source": [
    "We see that, initially we have a increase in accuracy (decrease in rmse) due to better **generalization** as we are taking multiple values and averaging the results that are closest to the given test points. i.e. Initially we were having **high variance (overfitting)** in the model and increasing the value of `k` leads to better fitting. \n",
    "\n",
    "After a minima, we see that our Regressors accuracy goes on decreasing (rmse increases) as the critical point has been crossed and the Regressor is becoming more **baised** and **underfitted** and if we keep on increasing the value of `k`, any sample would be predicted as the average of the whole data."
   ]
  },
  {
   "cell_type": "markdown",
   "metadata": {},
   "source": [
    "# Q2 c i"
   ]
  },
  {
   "cell_type": "code",
   "execution_count": 24,
   "metadata": {},
   "outputs": [
    {
     "name": "stdout",
     "output_type": "stream",
     "text": [
      "the 15th home gave us the worst rmse\n"
     ]
    }
   ],
   "source": [
    "nn = KNeighborsRegressor(n_neighbors=6) # we take 6 as it got us best rmse\n",
    "nn.fit(X_train, y_train)\n",
    "y_pred = nn.predict(X_test)\n",
    "a = np.argmax(y_pred - y_test.values)\n",
    "print ('the {}th home gave us the worst rmse'.format(a))"
   ]
  },
  {
   "cell_type": "code",
   "execution_count": 25,
   "metadata": {},
   "outputs": [
    {
     "name": "stdout",
     "output_type": "stream",
     "text": [
      "X1 transaction date                       0.909091\n",
      "X2 house age                              0.376712\n",
      "X3 distance to the nearest MRT station    0.350310\n",
      "X4 number of convenience stores           0.300000\n",
      "X5 latitude                               0.324527\n",
      "X6 longitude                              0.431960\n",
      "Name: 302, dtype: float64\n"
     ]
    }
   ],
   "source": [
    "print (X_test.iloc[9, :])"
   ]
  },
  {
   "cell_type": "code",
   "execution_count": 26,
   "metadata": {},
   "outputs": [
    {
     "name": "stdout",
     "output_type": "stream",
     "text": [
      "X1 transaction date                       0.545455\n",
      "X2 house age                              0.301370\n",
      "X3 distance to the nearest MRT station    0.112410\n",
      "X4 number of convenience stores           0.200000\n",
      "X5 latitude                               0.504605\n",
      "X6 longitude                              0.819280\n",
      "Name: 191, dtype: float64\n"
     ]
    }
   ],
   "source": [
    "print (X_test.iloc[0, :])"
   ]
  },
  {
   "cell_type": "code",
   "execution_count": 27,
   "metadata": {},
   "outputs": [
    {
     "name": "stdout",
     "output_type": "stream",
     "text": [
      "X1 transaction date                       0.818182\n",
      "X2 house age                              0.239726\n",
      "X3 distance to the nearest MRT station    0.039568\n",
      "X4 number of convenience stores           0.700000\n",
      "X5 latitude                               0.523631\n",
      "X6 longitude                              0.775070\n",
      "Name: 21, dtype: float64\n"
     ]
    }
   ],
   "source": [
    "print (X_test.iloc[4, :])"
   ]
  },
  {
   "cell_type": "markdown",
   "metadata": {},
   "source": [
    "The reason that this home gave us the worse rmse could be multiple based on the data, as we are not able to visualize the data, we currently with the given knowledge can't pinpoint exact reason for the erronous behaviour. What we can say is that this home might be noisy (given features are not able to correlate to the high difference in the price). To improve the rmse error on this house we can try to use different units (scaling factors) for the features rather than scaling them to be same.\n",
    "\n",
    "According to me scaling all the features to the same scale is not such a great idea because, effectively we are saying that all the features matter the same (because if a differance of $\\delta_1$ in `feature1` is compared to the difference of $\\delta_2$ in `feature2` both would result in increase or decrease in distance between points if the environments remain exactly the same). This can't be said as there could be some features that affect the price more than the others. A naive made-up example could be `feature1 = #of cows in a farm 5 kms from house` and `feature2 = sq. ft. area of the house`, clearly if `feature1` is given equal importance as `feature2` we would not be getting good results."
   ]
  },
  {
   "cell_type": "markdown",
   "metadata": {},
   "source": [
    "# Q3\n",
    "-- citations: https://docs.scipy.org/doc/scipy-0.18.1/reference/generated/scipy.spatial.Voronoi.html"
   ]
  },
  {
   "cell_type": "code",
   "execution_count": 35,
   "metadata": {
    "scrolled": true
   },
   "outputs": [
    {
     "data": {
      "text/html": [
       "<div>\n",
       "<style scoped>\n",
       "    .dataframe tbody tr th:only-of-type {\n",
       "        vertical-align: middle;\n",
       "    }\n",
       "\n",
       "    .dataframe tbody tr th {\n",
       "        vertical-align: top;\n",
       "    }\n",
       "\n",
       "    .dataframe thead th {\n",
       "        text-align: right;\n",
       "    }\n",
       "</style>\n",
       "<table border=\"1\" class=\"dataframe\">\n",
       "  <thead>\n",
       "    <tr style=\"text-align: right;\">\n",
       "      <th></th>\n",
       "      <th>sepal length</th>\n",
       "      <th>sepal width</th>\n",
       "    </tr>\n",
       "  </thead>\n",
       "  <tbody>\n",
       "    <tr>\n",
       "      <th>43</th>\n",
       "      <td>5.0</td>\n",
       "      <td>3.5</td>\n",
       "    </tr>\n",
       "    <tr>\n",
       "      <th>104</th>\n",
       "      <td>6.5</td>\n",
       "      <td>3.0</td>\n",
       "    </tr>\n",
       "    <tr>\n",
       "      <th>132</th>\n",
       "      <td>6.4</td>\n",
       "      <td>2.8</td>\n",
       "    </tr>\n",
       "    <tr>\n",
       "      <th>11</th>\n",
       "      <td>4.8</td>\n",
       "      <td>3.4</td>\n",
       "    </tr>\n",
       "    <tr>\n",
       "      <th>109</th>\n",
       "      <td>7.2</td>\n",
       "      <td>3.6</td>\n",
       "    </tr>\n",
       "  </tbody>\n",
       "</table>\n",
       "</div>"
      ],
      "text/plain": [
       "     sepal length  sepal width\n",
       "43            5.0          3.5\n",
       "104           6.5          3.0\n",
       "132           6.4          2.8\n",
       "11            4.8          3.4\n",
       "109           7.2          3.6"
      ]
     },
     "execution_count": 35,
     "metadata": {},
     "output_type": "execute_result"
    }
   ],
   "source": [
    "data = pd.read_csv(\"../../data/iris/iris.csv\",\n",
    "                   header=None,\n",
    "                   names=['sepal length',\n",
    "                          'sepal width',\n",
    "                          'petal length',\n",
    "                          'petal width',\n",
    "                          'species'])\n",
    "data.head(5)\n",
    "X = data.iloc[:, :2]\n",
    "y = data.iloc[:, -1]"
   ]
  },
  {
   "cell_type": "code",
   "execution_count": 64,
   "metadata": {},
   "outputs": [
    {
     "data": {
      "text/plain": [
       "Iris-versicolor    50\n",
       "Iris-virginica     50\n",
       "Iris-setosa        50\n",
       "Name: species, dtype: int64"
      ]
     },
     "execution_count": 64,
     "metadata": {},
     "output_type": "execute_result"
    }
   ],
   "source": [
    "y.value_counts()"
   ]
  },
  {
   "cell_type": "code",
   "execution_count": 73,
   "metadata": {
    "scrolled": true
   },
   "outputs": [
    {
     "name": "stdout",
     "output_type": "stream",
     "text": [
      "red : Iris-versicolor\n",
      "clan : Iris-virginica\n",
      "green : Iris-setosa\n"
     ]
    },
    {
     "data": {
      "image/png": "[encoded data removed]",
      "text/plain": [
       "<Figure size 432x288 with 1 Axes>"
      ]
     },
     "metadata": {
      "needs_background": "light"
     },
     "output_type": "display_data"
    }
   ],
   "source": [
    "from scipy.spatial import Voronoi, voronoi_plot_2d\n",
    "\n",
    "# make up data points\n",
    "points = X.values\n",
    "\n",
    "# compute Voronoi tesselation\n",
    "vor = Voronoi(points)\n",
    "\n",
    "# plot\n",
    "voronoi_plot_2d(vor);\n",
    "\n",
    "# plot the points\n",
    "for i, y_ in enumerate(y.values):\n",
    "    if y_ == 'Iris-versicolor':\n",
    "        plt.scatter(*X.values[i], c='r')\n",
    "    elif y_ == 'Iris-virginica':\n",
    "        plt.scatter(*X.values[i], c='c')\n",
    "    elif y_ == 'Iris-setosa':\n",
    "        plt.scatter(*X.values[i], c='g')\n",
    "plt.xlabel(\"sepal length\")\n",
    "plt.ylabel(\"sepal width\")\n",
    "\n",
    "print ('red : Iris-versicolor')\n",
    "print ('clan : Iris-virginica')        \n",
    "print ('green : Iris-setosa')   "
   ]
  },
  {
   "cell_type": "markdown",
   "metadata": {},
   "source": [
    "By looking at this diagram we can easily infer that only using these 2 features we would be easily be able to differentiate between `Iris-setosa` and *not* `Iris-setosa`. The Knn would not be able to differentiate that well enough between `Iris-virginica` and `Iris-setosa`. If we include more dimetions than we might get better results as these added features might entail the differentiating information for predicting the class `y` of a perticular feature vector. "
   ]
  }
 ],
 "metadata": {
  "kernelspec": {
   "display_name": "Python 3",
   "language": "python",
   "name": "python3"
  },
  "language_info": {
   "codemirror_mode": {
    "name": "ipython",
    "version": 3
   },
   "file_extension": ".py",
   "mimetype": "text/x-python",
   "name": "python",
   "nbconvert_exporter": "python",
   "pygments_lexer": "ipython3",
   "version": "3.6.8"
  }
 },
 "nbformat": 4,
 "nbformat_minor": 2
}
