{
 "cells": [
  {
   "cell_type": "code",
   "execution_count": 246,
   "metadata": {},
   "outputs": [
    {
     "name": "stdout",
     "output_type": "stream",
     "text": [
      "The autoreload extension is already loaded. To reload it, use:\n",
      "  %reload_ext autoreload\n"
     ]
    }
   ],
   "source": [
    "%load_ext autoreload\n",
    "%autoreload 2\n",
    "import sys\n",
    "dirr = \"../../src\"\n",
    "if dirr not in sys.path:\n",
    "    sys.path.append(dirr)\n",
    "import pandas as pd\n",
    "import numpy as np\n",
    "import numpy.random as npr\n",
    "import utils as helper\n",
    "import matplotlib.pyplot as plt\n",
    "\n",
    "from sklearn.utils import shuffle\n",
    "from sklearn.metrics import mean_squared_error\n",
    "from sklearn.model_selection import KFold\n",
    "from sklearn.preprocessing import MinMaxScaler\n",
    "from sklearn.linear_model import Ridge, Lasso\n",
    "from sklearn.model_selection import train_test_split"
   ]
  },
  {
   "cell_type": "markdown",
   "metadata": {},
   "source": [
    "# Q1\n",
    "[Link](https://drive.google.com/open?id=14LtcG0TheEuIQeAGzeIpiOQZjeZXIeSg) to the pen paper solutions."
   ]
  },
  {
   "cell_type": "markdown",
   "metadata": {},
   "source": [
    "---\n",
    "\n",
    "# Q2\n",
    "Custom functions for differnt ways to calculate theta."
   ]
  },
  {
   "cell_type": "code",
   "execution_count": 247,
   "metadata": {},
   "outputs": [
    {
     "name": "stderr",
     "output_type": "stream",
     "text": [
      "/home/apoorv/miniconda3/envs/ml/lib/python3.6/site-packages/sklearn/preprocessing/data.py:323: DataConversionWarning: Data with input dtype int64, float64 were all converted to float64 by MinMaxScaler.\n",
      "  return self.partial_fit(X, y)\n"
     ]
    },
    {
     "data": {
      "text/plain": [
       "array([[0.54545459, 0.36986301, 0.35031012, 0.3       , 0.32452739,\n",
       "        0.43196032],\n",
       "       [0.09090906, 0.        , 0.02861841, 0.6       , 0.29217159,\n",
       "        0.69991374],\n",
       "       [0.81818188, 0.4086758 , 0.27221897, 0.3       , 0.42704799,\n",
       "        0.44565452]])"
      ]
     },
     "execution_count": 247,
     "metadata": {},
     "output_type": "execute_result"
    }
   ],
   "source": [
    "# reading data\n",
    "data_loc = \"../../data/real_estate/dataset.xlsx\"\n",
    "data = pd.read_excel(data_loc)\n",
    "\n",
    "# Normalizing the data\n",
    "scaler = MinMaxScaler()\n",
    "data[data.columns] = scaler.fit_transform(data[data.columns])\n",
    "\n",
    "# breaking data\n",
    "X = data.iloc[:, 1:-1]\n",
    "y = data.iloc[:, -1]\n",
    "tupl = train_test_split(X.values, y.values, test_size = .3)\n",
    "X_train, X_test, y_train, y_test = tupl\n",
    "X_train[:3, :]"
   ]
  },
  {
   "cell_type": "code",
   "execution_count": 260,
   "metadata": {},
   "outputs": [
    {
     "name": "stdout",
     "output_type": "stream",
     "text": [
      "normalEquationRidgeRegression:\n",
      " [ 0.19630916  0.03464375 -0.11511074 -0.20826595  0.10207558  0.18869906\n",
      "  0.0218443 ]\n",
      "coodrdinateDescentRegression:\n",
      " [ 0.20079374  0.03467896 -0.11519366 -0.21252506  0.10185997  0.18802775\n",
      "  0.0166799 ]\n",
      "sgdRegression:\n",
      " [0.07059753 0.07059753 0.07059753 0.07059753 0.07059753 0.07059753\n",
      " 0.07059753]\n",
      "coodrdinateDescentLasso:\n",
      " [ 0.19668776  0.03422936 -0.11378692 -0.20728587  0.10230805  0.18774715\n",
      "  0.02098588]\n",
      "gradientDescentAutogradRegression:\n",
      " [-0.75827148 -0.36047823  0.21600326  0.50914634 -0.40211364 -0.29536523\n",
      "  0.09761442]\n"
     ]
    }
   ],
   "source": [
    "from lregress import normalEquationRidgeRegression\n",
    "theta = normalEquationRidgeRegression(X_train, y_train, lmbd=0.1)\n",
    "print (\"normalEquationRidgeRegression:\\n\", theta)\n",
    "\n",
    "from lregress import coodrdinateDescentRegression\n",
    "theta = coodrdinateDescentRegression(X_train, y_train, it=200)\n",
    "print (\"coodrdinateDescentRegression:\\n\", theta)\n",
    "\n",
    "from lregress import sgdRegression\n",
    "theta = sgdRegression(X_train, y_train, alpha = 0.003, it=200)\n",
    "print (\"sgdRegression:\\n\", theta)\n",
    "\n",
    "from lregress import coodrdinateDescentLasso\n",
    "theta = coodrdinateDescentLasso(X_train, y_train, lmbd=.2, it=200)\n",
    "print (\"coodrdinateDescentLasso:\\n\", theta)\n",
    "\n",
    "# from lregress import gradientDescentAutogradRegression\n",
    "theta = gradientDescentAutogradRegression(X, y, alpha=0.001, lmbd=0.1, it=3)\n",
    "print (\"gradientDescentAutogradRegression:\\n\", theta)"
   ]
  },
  {
   "cell_type": "code",
   "execution_count": 257,
   "metadata": {},
   "outputs": [],
   "source": [
    "import numpy as np\n",
    "from autograd import grad\n",
    "import torch\n",
    "import autograd.numpy as anp\n",
    "from torch.autograd import Variable\n",
    "from utils import prepend_ones_col\n",
    "\n",
    "def lasso_cost(th, X, y, lmbd):\n",
    "    y_pred = anp.dot(X, th[:, None])\n",
    "    error_square = anp.square(y[:, None]-y_pred)\n",
    "    lasso_error = anp.absolute(th).sum() * (lmbd**2)\n",
    "    return error_square.sum() + lasso_error\n",
    "lasso_grad = grad(lasso_cost)\n",
    "def gradientDescentAutogradRegression(X, y, alpha=0.01, lmbd=0.1, it=300):\n",
    "    X_new = prepend_ones_col(X)\n",
    "    X_new = anp.array(X_new)\n",
    "    y = anp.array(y)\n",
    "    n, m = X_new.shape\n",
    "    th = anp.random.rand(m)\n",
    "    for i in range(it):\n",
    "        dw = lasso_grad(th, X_new, y, lmbd)\n",
    "        th = th - alpha*(dw)\n",
    "    return th\n"
   ]
  },
  {
   "cell_type": "code",
   "execution_count": 27,
   "metadata": {},
   "outputs": [],
   "source": []
  },
  {
   "cell_type": "code",
   "execution_count": null,
   "metadata": {},
   "outputs": [],
   "source": []
  },
  {
   "cell_type": "markdown",
   "metadata": {},
   "source": [
    "---\n",
    "\n",
    "# Q4"
   ]
  },
  {
   "cell_type": "code",
   "execution_count": 31,
   "metadata": {},
   "outputs": [],
   "source": [
    "# data\n",
    "X = [[1, 2],\n",
    "     [2, 4],\n",
    "     [3, 6],\n",
    "     [4, 8]]\n",
    "y = [2, 3, 4, 5]\n",
    "X = np.array(X)\n",
    "y = np.array(y)"
   ]
  },
  {
   "cell_type": "markdown",
   "metadata": {},
   "source": [
    "### a)"
   ]
  },
  {
   "cell_type": "code",
   "execution_count": 37,
   "metadata": {},
   "outputs": [
    {
     "data": {
      "text/plain": [
       "Ridge(alpha=0.1, copy_X=True, fit_intercept=True, max_iter=None,\n",
       "   normalize=False, random_state=None, solver='auto', tol=0.001)"
      ]
     },
     "execution_count": 37,
     "metadata": {},
     "output_type": "execute_result"
    }
   ],
   "source": [
    "lr = Ridge(alpha=0.1)\n",
    "lr.fit(X ,y)"
   ]
  },
  {
   "cell_type": "code",
   "execution_count": 41,
   "metadata": {},
   "outputs": [
    {
     "name": "stdout",
     "output_type": "stream",
     "text": [
      "theta0 1.0099601593625498\n",
      "theta [0.19920319 0.39840637]\n"
     ]
    }
   ],
   "source": [
    "print('theta0',lr.intercept_)\n",
    "print('theta', lr.coef_)"
   ]
  },
  {
   "cell_type": "markdown",
   "metadata": {},
   "source": [
    "### b)"
   ]
  },
  {
   "cell_type": "code",
   "execution_count": 44,
   "metadata": {},
   "outputs": [
    {
     "data": {
      "text/plain": [
       "array([0.44705882, 0.23529412, 0.47058824])"
      ]
     },
     "execution_count": 44,
     "metadata": {},
     "output_type": "execute_result"
    }
   ],
   "source": [
    "normalEquationRidgeRegression(X, y, lmbd=1)"
   ]
  },
  {
   "cell_type": "markdown",
   "metadata": {},
   "source": [
    "Yes, I am able to learn the theta, see above for the coefficients."
   ]
  },
  {
   "cell_type": "markdown",
   "metadata": {},
   "source": [
    "---\n",
    "\n",
    "# Q5\n",
    "Using sklearn's RIDGE and LASSO modules after normalizing the data."
   ]
  },
  {
   "cell_type": "code",
   "execution_count": 200,
   "metadata": {},
   "outputs": [
    {
     "name": "stderr",
     "output_type": "stream",
     "text": [
      "/home/apoorv/miniconda3/envs/ml/lib/python3.6/site-packages/sklearn/preprocessing/data.py:323: DataConversionWarning: Data with input dtype int64, float64 were all converted to float64 by MinMaxScaler.\n",
      "  return self.partial_fit(X, y)\n"
     ]
    }
   ],
   "source": [
    "# reading data\n",
    "data_loc = \"../../data/real_estate/dataset.xlsx\"\n",
    "data = pd.read_excel(data_loc)\n",
    "\n",
    "# Normalizing the data\n",
    "scaler = MinMaxScaler()\n",
    "data[data.columns] = scaler.fit_transform(data[data.columns])"
   ]
  },
  {
   "cell_type": "markdown",
   "metadata": {},
   "source": [
    "**a)** Ridge Regression"
   ]
  },
  {
   "cell_type": "code",
   "execution_count": 201,
   "metadata": {},
   "outputs": [],
   "source": [
    "def cross(dTrain, depths, num_valid, clf):\n",
    "    folds = make_folds(dTrain, num_valid)\n",
    "    passed_folds = folds[:-1] # holding out test\n",
    "    k, acc= best_k(passed_folds, depths, clf)\n",
    "    acc = 0\n",
    "    curr_fold_train = folds[:-1]\n",
    "    curr_fold_train = pd.concat(curr_fold_train)\n",
    "    curr_fold_test = folds[-1]\n",
    "    linear_reg = clf(alpha=k)\n",
    "    linear_reg.fit(curr_fold_train.iloc[:, :-1], curr_fold_train.iloc[:, -1])\n",
    "    my_preds = linear_reg.predict(curr_fold_test.iloc[:, :-1])\n",
    "    true = curr_fold_test.iloc[:, -1].values\n",
    "    my_acc = mean_squared_error(true, my_preds)\n",
    "    return {\"Lambda\": k, \"TEST mse\": my_acc}   \n",
    "\n",
    "def make_folds(dTrain, num_valid):\n",
    "    '''Make a number of folds with diven pd'''\n",
    "    train = shuffle(dTrain)\n",
    "    last = train.shape[0]\n",
    "    folds = []\n",
    "    for i in range(num_valid):\n",
    "        start = i*int(last/num_valid)\n",
    "        end = (i+1)*int(last/num_valid)\n",
    "        if end >= last:\n",
    "            end = -1\n",
    "        folds.append(train.iloc[start:end, :])\n",
    "    return folds\n",
    "\n",
    "def best_k(folds, depths, clf):\n",
    "    '''return lambda that maximizes the avg accuracy'''\n",
    "    num_valid = len(folds)\n",
    "    acc = {}\n",
    "    train_acc = {}\n",
    "    for i in range(num_valid):\n",
    "        curr_fold_train = [x for j,x in enumerate(folds) if j!=i] \n",
    "        curr_fold_validation = folds[i]\n",
    "        curr_fold_train = pd.concat(curr_fold_train)\n",
    "        for k in depths:\n",
    "            linear_reg = clf(alpha=k)\n",
    "            linear_reg.fit(curr_fold_train.iloc[:, :-1], curr_fold_train.iloc[:, -1])\n",
    "            my_preds = linear_reg.predict(curr_fold_validation.iloc[:, :-1])\n",
    "            true = curr_fold_validation.iloc[:, -1].values\n",
    "            my_acc = mean_squared_error(true, my_preds)\n",
    "            acc[k] = my_acc\n",
    "            \n",
    "            my_preds = linear_reg.predict(curr_fold_train.iloc[:, :-1])\n",
    "            true = curr_fold_train.iloc[:, -1].values\n",
    "            train_acc = mean_squared_error(true, my_preds)\n",
    "            \n",
    "            print(k, \"| validation mse: %8.2f\"% my_acc) # for showcasing\n",
    "            print(k, \"| train mse: %8.2f\"% train_acc) # for showcasing\n",
    "    acc = {k: acc[k] for k in acc.keys()}\n",
    "    \n",
    "    x = acc\n",
    "    sorted_by_value = sorted(x.items(), key=lambda kv: kv[1])\n",
    "    return sorted(x[0] for x in sorted_by_value if sorted_by_value[0][1] == x[1])[0], acc"
   ]
  },
  {
   "cell_type": "code",
   "execution_count": 202,
   "metadata": {},
   "outputs": [
    {
     "name": "stdout",
     "output_type": "stream",
     "text": [
      "0.0 | validation mse:     0.00\n",
      "0.0 | train mse:     0.01\n",
      "0.8 | validation mse:     0.00\n",
      "0.8 | train mse:     0.01\n",
      "2 | validation mse:     0.00\n",
      "2 | train mse:     0.01\n",
      "10 | validation mse:     0.01\n",
      "10 | train mse:     0.01\n",
      "50 | validation mse:     0.01\n",
      "50 | train mse:     0.01\n",
      "100 | validation mse:     0.01\n",
      "100 | train mse:     0.01\n",
      "0.0 | validation mse:     0.01\n",
      "0.0 | train mse:     0.01\n",
      "0.8 | validation mse:     0.01\n",
      "0.8 | train mse:     0.01\n",
      "2 | validation mse:     0.01\n",
      "2 | train mse:     0.01\n",
      "10 | validation mse:     0.01\n",
      "10 | train mse:     0.01\n",
      "50 | validation mse:     0.01\n",
      "50 | train mse:     0.01\n",
      "100 | validation mse:     0.01\n",
      "100 | train mse:     0.01\n",
      "0.0 | validation mse:     0.01\n",
      "0.0 | train mse:     0.01\n",
      "0.8 | validation mse:     0.01\n",
      "0.8 | train mse:     0.01\n",
      "2 | validation mse:     0.01\n",
      "2 | train mse:     0.01\n",
      "10 | validation mse:     0.01\n",
      "10 | train mse:     0.01\n",
      "50 | validation mse:     0.01\n",
      "50 | train mse:     0.01\n",
      "100 | validation mse:     0.01\n",
      "100 | train mse:     0.01\n",
      "0.0 | validation mse:     0.01\n",
      "0.0 | train mse:     0.01\n",
      "0.8 | validation mse:     0.00\n",
      "0.8 | train mse:     0.01\n",
      "2 | validation mse:     0.00\n",
      "2 | train mse:     0.01\n",
      "10 | validation mse:     0.01\n",
      "10 | train mse:     0.01\n",
      "50 | validation mse:     0.01\n",
      "50 | train mse:     0.01\n",
      "100 | validation mse:     0.01\n",
      "100 | train mse:     0.01\n",
      "{'Lambda': 2, 'TEST mse': 0.011177140237064473}\n"
     ]
    }
   ],
   "source": [
    "k = cross(data, [0.0, 0.8, 2, 10, 50, 100], 5, Ridge)\n",
    "print (k)"
   ]
  },
  {
   "cell_type": "markdown",
   "metadata": {},
   "source": [
    "**b)** Lasso Regression"
   ]
  },
  {
   "cell_type": "code",
   "execution_count": 203,
   "metadata": {},
   "outputs": [
    {
     "name": "stdout",
     "output_type": "stream",
     "text": [
      "0.2 | validation mse:     0.01\n",
      "0.2 | train mse:     0.01\n",
      "0.8 | validation mse:     0.01\n",
      "0.8 | train mse:     0.01\n",
      "2 | validation mse:     0.01\n",
      "2 | train mse:     0.01\n",
      "10 | validation mse:     0.01\n",
      "10 | train mse:     0.01\n",
      "50 | validation mse:     0.01\n",
      "50 | train mse:     0.01\n",
      "100 | validation mse:     0.01\n",
      "100 | train mse:     0.01\n",
      "0.2 | validation mse:     0.01\n",
      "0.2 | train mse:     0.01\n",
      "0.8 | validation mse:     0.01\n",
      "0.8 | train mse:     0.01\n",
      "2 | validation mse:     0.01\n",
      "2 | train mse:     0.01\n",
      "10 | validation mse:     0.01\n",
      "10 | train mse:     0.01\n",
      "50 | validation mse:     0.01\n",
      "50 | train mse:     0.01\n",
      "100 | validation mse:     0.01\n",
      "100 | train mse:     0.01\n",
      "0.2 | validation mse:     0.01\n",
      "0.2 | train mse:     0.01\n",
      "0.8 | validation mse:     0.01\n",
      "0.8 | train mse:     0.01\n",
      "2 | validation mse:     0.01\n",
      "2 | train mse:     0.01\n",
      "10 | validation mse:     0.01\n",
      "10 | train mse:     0.01\n",
      "50 | validation mse:     0.01\n",
      "50 | train mse:     0.01\n",
      "100 | validation mse:     0.01\n",
      "100 | train mse:     0.01\n",
      "0.2 | validation mse:     0.02\n",
      "0.2 | train mse:     0.01\n",
      "0.8 | validation mse:     0.02\n",
      "0.8 | train mse:     0.01\n",
      "2 | validation mse:     0.02\n",
      "2 | train mse:     0.01\n",
      "10 | validation mse:     0.02\n",
      "10 | train mse:     0.01\n",
      "50 | validation mse:     0.02\n",
      "50 | train mse:     0.01\n",
      "100 | validation mse:     0.02\n",
      "100 | train mse:     0.01\n",
      "{'Lambda': 0.2, 'TEST mse': 0.020413612862488297}\n"
     ]
    }
   ],
   "source": [
    "k = cross(data, [0.2, 0.8, 2, 10, 50, 100], 5, Lasso)\n",
    "print (k)"
   ]
  },
  {
   "cell_type": "markdown",
   "metadata": {},
   "source": [
    "**c)** Making the Lasso and Regression paths"
   ]
  },
  {
   "cell_type": "code",
   "execution_count": 207,
   "metadata": {},
   "outputs": [],
   "source": [
    "ks = [0.1, 0.2, 0.4, 1.8, 2, 2.4,\n",
    "      2.9, 3, 4, 9, 10, 13, 15, 24,\n",
    "      34, 77, 88, 99, 120, 200, 300, 500,\n",
    "      800, 1100, 1110, 2000, 3000]\n",
    "\n",
    "rth = []\n",
    "lth = []\n",
    "for k in ks:\n",
    "    lr = Ridge(alpha=k)\n",
    "    lr.fit(X_train, y_train)\n",
    "    thetta = lr.coef_\n",
    "    thettas = [lr.intercept_] + thetta\n",
    "    rth.append(thettas)\n",
    "\n",
    "    lr = Lasso(alpha=k)\n",
    "    lr.fit(X_train, y_train)\n",
    "    lr.coef_\n",
    "    lr.intercept_\n",
    "    thettas = [lr.intercept_] + thetta\n",
    "    lth.append(thettas)\n",
    "\n",
    "rth = np.array(rth)\n",
    "lth = np.array(lth)"
   ]
  },
  {
   "cell_type": "code",
   "execution_count": 208,
   "metadata": {},
   "outputs": [
    {
     "data": {
      "text/plain": [
       "array([0.13808876, 0.13205162, 0.12234784, 0.09533477, 0.09414131,\n",
       "       0.09264382, 0.09196823, 0.09195145, 0.09320648, 0.11146799,\n",
       "       0.11542327, 0.12665007, 0.13350424, 0.15857527, 0.1783088 ,\n",
       "       0.22087431, 0.22673827, 0.23159446, 0.23887488, 0.25438343,\n",
       "       0.26316961, 0.27078244, 0.27531754, 0.27744343, 0.27749501,\n",
       "       0.28005007, 0.28112989])"
      ]
     },
     "execution_count": 208,
     "metadata": {},
     "output_type": "execute_result"
    }
   ],
   "source": [
    "rth[:, 1] # one theta over lambdas"
   ]
  },
  {
   "cell_type": "code",
   "execution_count": 209,
   "metadata": {},
   "outputs": [
    {
     "data": {
      "image/png": "[encoded data removed]",
      "text/plain": [
       "<Figure size 432x288 with 1 Axes>"
      ]
     },
     "metadata": {
      "needs_background": "light"
     },
     "output_type": "display_data"
    }
   ],
   "source": [
    "# make main subplot\n",
    "fig, ax = plt.subplots()\n",
    "\n",
    "\n",
    "for i in range(len(rth[0])):\n",
    "    ridgeth = rth[:, i]\n",
    "    lassoth = lth[:, i]\n",
    "    ax.plot(ks, ridgeth, label=r'ridge | $\\theta$' + str(i))\n",
    "    ax.plot(ks, ridgeth, label=r'lasso | $\\theta$' + str(i))\n",
    "\n",
    "ax.set_ylabel(r\"$\\theta$s\")\n",
    "ax.set_xlabel(r\"$\\lambda$s\")\n",
    "\n",
    "legend = ax.legend()#loc='upper center', shadow=True, fontsize='x-large')\n",
    "\n",
    "# Put a nicer background color on the legend.\n",
    "legend.get_frame().set_facecolor('C0')\n",
    "\n",
    "plt.show()"
   ]
  },
  {
   "cell_type": "code",
   "execution_count": null,
   "metadata": {},
   "outputs": [],
   "source": [
    "\n",
    "fig, ax = plt.subplots(nrows=1, ncols=2, figsize=(10,6.15))\n",
    "map_X, map_Y = np.meshgrid(theta0_grid, theta1_grid)\n",
    "ax[0].scatter(x, Y, marker='x', s=40, color='k')\n",
    "contours = ax[1].contour(map_Y, map_X, J_grid, 30)\n",
    "ax[1].clabel(contours)\n",
    "ax[1].scatter([theta0_true]*2,[theta1_true]*2,s=[50,10], color=['k','w'])\n",
    "ax[1].set_xlabel(r'$\\theta_0$')\n",
    "ax[1].set_ylabel(r'$\\theta_1$')\n",
    "ax[1].set_title('Cost function')\n",
    "ax[0].set_xlabel(r'$x$')\n",
    "ax[0].set_ylabel(r'$y$')\n",
    "ax[0].set_title('Data and fit')\n",
    "line, = ax[0].plot([], [], color='r', lw=2,label=r'$\\theta_0 = {:.3f}, \\theta_1 = {:.3f}$'.format(*Theta[0]))\n",
    "def animate(i):\n",
    "   '''ax[0].plot(X, predict(Theta[i], X), color='r', lw=2,\n",
    "              label=r'$\\theta_0 = {:.3f}, \\theta_1 = {:.3f}$'.format(*Theta[i]))'''\n",
    "   #ax[1].scatter(Theta[i][0], Theta[i][1], s=40, lw=0)\n",
    "   z = predict(Theta[i], X)\n",
    "   line.set_data(X[:, 1], z)\n",
    "   ax[1].annotate('', xy=Theta[i], xytext=Theta[i-1],arrowprops={'arrowstyle': '->', 'color': 'r', 'lw': 1}, va='center', ha='center')\n",
    "   #ax[0].plot(X, predict(Theta[i], X), color='r', lw=2,label=r'$\\theta_0 = {:.3f}, \\theta_1 = {:.3f}$'.format(*Theta[i]))\n",
    "   return ax\n",
    "\n",
    "#anim = animation.FuncAnimation(fig, animate, frames=10, interval=20, blit=True)\n",
    "anim = animation.FuncAnimation(fig, animate, frames=1000, interval=20, blit=True)\n",
    "#HTML(anim.to_html5_video())\n",
    "anim"
   ]
  }
 ],
 "metadata": {
  "kernelspec": {
   "display_name": "Python 3",
   "language": "python",
   "name": "python3"
  },
  "language_info": {
   "codemirror_mode": {
    "name": "ipython",
    "version": 3
   },
   "file_extension": ".py",
   "mimetype": "text/x-python",
   "name": "python",
   "nbconvert_exporter": "python",
   "pygments_lexer": "ipython3",
   "version": "3.6.8"
  }
 },
 "nbformat": 4,
 "nbformat_minor": 2
}
