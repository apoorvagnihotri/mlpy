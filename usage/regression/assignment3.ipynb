{
 "cells": [
  {
   "cell_type": "code",
   "execution_count": 1,
   "metadata": {},
   "outputs": [
    {
     "name": "stdout",
     "output_type": "stream",
     "text": [
      "Exception reporting mode: Plain\n"
     ]
    }
   ],
   "source": [
    "%load_ext autoreload\n",
    "%autoreload 2\n",
    "import sys\n",
    "dirr = \"../../src\"\n",
    "if dirr not in sys.path:\n",
    "    sys.path.append(dirr)\n",
    "%xmode Plain\n",
    "import pandas as pd\n",
    "import numpy as np\n",
    "import numpy.random as npr\n",
    "import utils as helper\n",
    "import matplotlib.pyplot as plt\n",
    "from sklearn.linear_model import LinearRegression\n",
    "from sklearn.model_selection import train_test_split"
   ]
  },
  {
   "cell_type": "markdown",
   "metadata": {},
   "source": [
    "# Q1\n",
    "Link to the [pdf](https://drive.google.com/file/d/1YhLUJuHG-geJgn1pXUl7KHdrrjGvUgQr/view?usp=sharing)\n",
    "\n",
    "---"
   ]
  },
  {
   "cell_type": "markdown",
   "metadata": {},
   "source": [
    "# Q2\n",
    "a) Solution by sk-learn"
   ]
  },
  {
   "cell_type": "code",
   "execution_count": 9,
   "metadata": {},
   "outputs": [],
   "source": [
    "X = [[1, 2],\n",
    "     [2, 4],\n",
    "     [3, 6],\n",
    "     [4, 8]]\n",
    "y = [2,3,4,5]\n",
    "X = np.array(X)\n",
    "y = np.array(y)\n",
    "# Setting up data"
   ]
  },
  {
   "cell_type": "code",
   "execution_count": 10,
   "metadata": {},
   "outputs": [
    {
     "data": {
      "text/plain": [
       "LinearRegression(copy_X=True, fit_intercept=True, n_jobs=None,\n",
       "         normalize=False)"
      ]
     },
     "execution_count": 10,
     "metadata": {},
     "output_type": "execute_result"
    }
   ],
   "source": [
    "lr = LinearRegression()\n",
    "lr.fit(X, y)"
   ]
  },
  {
   "cell_type": "code",
   "execution_count": 11,
   "metadata": {},
   "outputs": [
    {
     "data": {
      "text/plain": [
       "array([3.16])"
      ]
     },
     "execution_count": 11,
     "metadata": {},
     "output_type": "execute_result"
    }
   ],
   "source": [
    "lr.predict([[2,4.4]])"
   ]
  },
  {
   "cell_type": "markdown",
   "metadata": {},
   "source": [
    "---\n",
    "# Q2\n",
    "b) Using normal Equations.\n",
    "\n",
    "We get ``LinAlgError`` because the matrix $X.X^{T}$ is singular, therefore inverting such a matrix would fail."
   ]
  },
  {
   "cell_type": "code",
   "execution_count": 12,
   "metadata": {},
   "outputs": [],
   "source": [
    "from lregress import normalEquationRegression\n",
    "# theta = normalEquationRegression(X, y)\n",
    "# theta"
   ]
  },
  {
   "cell_type": "markdown",
   "metadata": {},
   "source": [
    "Sk-learn overcomes this problem by using a different technique to calculate inverses, called [Moore–Penrose pseudo inverse](https://en.wikipedia.org/wiki/Moore%E2%80%93Penrose_inverse)."
   ]
  },
  {
   "cell_type": "markdown",
   "metadata": {},
   "source": [
    "---\n",
    "# Q3\n",
    "a) Running Sk-learn on real-estate price prediction problem."
   ]
  },
  {
   "cell_type": "code",
   "execution_count": 101,
   "metadata": {},
   "outputs": [
    {
     "data": {
      "text/html": [
       "<div>\n",
       "<style scoped>\n",
       "    .dataframe tbody tr th:only-of-type {\n",
       "        vertical-align: middle;\n",
       "    }\n",
       "\n",
       "    .dataframe tbody tr th {\n",
       "        vertical-align: top;\n",
       "    }\n",
       "\n",
       "    .dataframe thead th {\n",
       "        text-align: right;\n",
       "    }\n",
       "</style>\n",
       "<table border=\"1\" class=\"dataframe\">\n",
       "  <thead>\n",
       "    <tr style=\"text-align: right;\">\n",
       "      <th></th>\n",
       "      <th>X1 transaction date</th>\n",
       "      <th>X2 house age</th>\n",
       "      <th>X3 distance to the nearest MRT station</th>\n",
       "      <th>X4 number of convenience stores</th>\n",
       "      <th>X5 latitude</th>\n",
       "      <th>X6 longitude</th>\n",
       "    </tr>\n",
       "  </thead>\n",
       "  <tbody>\n",
       "    <tr>\n",
       "      <th>10</th>\n",
       "      <td>2013.083333</td>\n",
       "      <td>34.8</td>\n",
       "      <td>405.21340</td>\n",
       "      <td>1</td>\n",
       "      <td>24.97349</td>\n",
       "      <td>121.53372</td>\n",
       "    </tr>\n",
       "    <tr>\n",
       "      <th>68</th>\n",
       "      <td>2013.416667</td>\n",
       "      <td>30.4</td>\n",
       "      <td>464.22300</td>\n",
       "      <td>6</td>\n",
       "      <td>24.97964</td>\n",
       "      <td>121.53805</td>\n",
       "    </tr>\n",
       "    <tr>\n",
       "      <th>291</th>\n",
       "      <td>2012.833333</td>\n",
       "      <td>3.4</td>\n",
       "      <td>56.47425</td>\n",
       "      <td>7</td>\n",
       "      <td>24.95744</td>\n",
       "      <td>121.53711</td>\n",
       "    </tr>\n",
       "    <tr>\n",
       "      <th>212</th>\n",
       "      <td>2013.333333</td>\n",
       "      <td>17.6</td>\n",
       "      <td>1805.66500</td>\n",
       "      <td>2</td>\n",
       "      <td>24.98672</td>\n",
       "      <td>121.52091</td>\n",
       "    </tr>\n",
       "    <tr>\n",
       "      <th>181</th>\n",
       "      <td>2013.166667</td>\n",
       "      <td>11.6</td>\n",
       "      <td>201.89390</td>\n",
       "      <td>8</td>\n",
       "      <td>24.98489</td>\n",
       "      <td>121.54121</td>\n",
       "    </tr>\n",
       "  </tbody>\n",
       "</table>\n",
       "</div>"
      ],
      "text/plain": [
       "     X1 transaction date  X2 house age  \\\n",
       "10           2013.083333          34.8   \n",
       "68           2013.416667          30.4   \n",
       "291          2012.833333           3.4   \n",
       "212          2013.333333          17.6   \n",
       "181          2013.166667          11.6   \n",
       "\n",
       "     X3 distance to the nearest MRT station  X4 number of convenience stores  \\\n",
       "10                                405.21340                                1   \n",
       "68                                464.22300                                6   \n",
       "291                                56.47425                                7   \n",
       "212                              1805.66500                                2   \n",
       "181                               201.89390                                8   \n",
       "\n",
       "     X5 latitude  X6 longitude  \n",
       "10      24.97349     121.53372  \n",
       "68      24.97964     121.53805  \n",
       "291     24.95744     121.53711  \n",
       "212     24.98672     121.52091  \n",
       "181     24.98489     121.54121  "
      ]
     },
     "execution_count": 101,
     "metadata": {},
     "output_type": "execute_result"
    }
   ],
   "source": [
    "data_loc = \"../../data/real_estate/dataset.xlsx\"\n",
    "data = pd.read_excel(data_loc)\n",
    "X = data.iloc[:, 1:-1]\n",
    "y = data.iloc[:, -1]\n",
    "tupl = train_test_split(X, y)\n",
    "X_train, X_test, y_train, y_test = tupl\n",
    "X_train.head(5)"
   ]
  },
  {
   "cell_type": "code",
   "execution_count": 14,
   "metadata": {},
   "outputs": [],
   "source": [
    "def rmse(pred, true):\n",
    "    return np.sqrt(np.mean((pred-true)**2))"
   ]
  },
  {
   "cell_type": "code",
   "execution_count": 15,
   "metadata": {},
   "outputs": [
    {
     "name": "stdout",
     "output_type": "stream",
     "text": [
      "The RMSE error obtained is:  10.699084128276917\n"
     ]
    }
   ],
   "source": [
    "lr = LinearRegression()\n",
    "lr.fit(X_train, y_train)\n",
    "y_pred = lr.predict(X_test)\n",
    "print(\"The RMSE error obtained is: \", rmse(y_pred, y_test.values))"
   ]
  },
  {
   "cell_type": "code",
   "execution_count": 16,
   "metadata": {},
   "outputs": [
    {
     "name": "stdout",
     "output_type": "stream",
     "text": [
      "[ 3.97653110e+00 -2.67565866e-01 -3.92319362e-03  1.20282917e+00\n",
      "  2.21118908e+02  2.94468148e+01]\n",
      "-17063.322865229766\n"
     ]
    }
   ],
   "source": [
    "print(lr.coef_)\n",
    "print(lr.intercept_)"
   ]
  },
  {
   "cell_type": "markdown",
   "metadata": {},
   "source": [
    "---\n",
    "# Q3\n",
    "b) To assume that the co-efficients learnt signify the importance of the feature is wrong. This can be shown by thinking of a example where on of the feature measures some quantities in ``centimeters`` and the same feature is converted to ``inches`` in the next curve fitting. Since we already know the importance of the feature would not change by the unit it is measured in but the co-efficients would get changed. Here by taking a feature in a different unit, the importance of the feature can be decreased (stated in the question) is a contradiction as clearly importance of a feature is not dependent on the unit it is measured. There for the coefficients don't tell us anything about the importance of the features."
   ]
  },
  {
   "cell_type": "code",
   "execution_count": 17,
   "metadata": {},
   "outputs": [
    {
     "name": "stdout",
     "output_type": "stream",
     "text": [
      "The coeffs learnt are the following: \n"
     ]
    },
    {
     "data": {
      "text/plain": [
       "array([ 3.97653110e+00, -2.67565866e-01, -3.92319362e-03,  1.20282917e+00,\n",
       "        2.21118908e+02,  2.94468148e+01])"
      ]
     },
     "execution_count": 17,
     "metadata": {},
     "output_type": "execute_result"
    }
   ],
   "source": [
    "coef_ = lr.coef_\n",
    "print(\"The coeffs learnt are the following: \")\n",
    "coef_"
   ]
  },
  {
   "cell_type": "markdown",
   "metadata": {},
   "source": [
    "---\n",
    "# Q3\n",
    "c) Scaling the numerical columns of the Data Frame."
   ]
  },
  {
   "cell_type": "code",
   "execution_count": 109,
   "metadata": {},
   "outputs": [
    {
     "name": "stderr",
     "output_type": "stream",
     "text": [
      "D:\\Users\\apoor\\Miniconda3\\envs\\3d\\lib\\site-packages\\sklearn\\preprocessing\\data.py:323: DataConversionWarning: Data with input dtype int64, float64 were all converted to float64 by MinMaxScaler.\n",
      "  return self.partial_fit(X, y)\n"
     ]
    },
    {
     "data": {
      "text/html": [
       "<div>\n",
       "<style scoped>\n",
       "    .dataframe tbody tr th:only-of-type {\n",
       "        vertical-align: middle;\n",
       "    }\n",
       "\n",
       "    .dataframe tbody tr th {\n",
       "        vertical-align: top;\n",
       "    }\n",
       "\n",
       "    .dataframe thead th {\n",
       "        text-align: right;\n",
       "    }\n",
       "</style>\n",
       "<table border=\"1\" class=\"dataframe\">\n",
       "  <thead>\n",
       "    <tr style=\"text-align: right;\">\n",
       "      <th></th>\n",
       "      <th>X1 transaction date</th>\n",
       "      <th>X2 house age</th>\n",
       "      <th>X3 distance to the nearest MRT station</th>\n",
       "      <th>X4 number of convenience stores</th>\n",
       "      <th>X5 latitude</th>\n",
       "      <th>X6 longitude</th>\n",
       "    </tr>\n",
       "  </thead>\n",
       "  <tbody>\n",
       "    <tr>\n",
       "      <th>41</th>\n",
       "      <td>0.909091</td>\n",
       "      <td>0.383562</td>\n",
       "      <td>0.625434</td>\n",
       "      <td>0.0</td>\n",
       "      <td>0.132089</td>\n",
       "      <td>0.322299</td>\n",
       "    </tr>\n",
       "    <tr>\n",
       "      <th>143</th>\n",
       "      <td>0.909091</td>\n",
       "      <td>0.310502</td>\n",
       "      <td>0.072525</td>\n",
       "      <td>0.5</td>\n",
       "      <td>0.400873</td>\n",
       "      <td>0.688376</td>\n",
       "    </tr>\n",
       "    <tr>\n",
       "      <th>280</th>\n",
       "      <td>0.636364</td>\n",
       "      <td>0.052511</td>\n",
       "      <td>0.024897</td>\n",
       "      <td>0.6</td>\n",
       "      <td>0.408871</td>\n",
       "      <td>0.726008</td>\n",
       "    </tr>\n",
       "  </tbody>\n",
       "</table>\n",
       "</div>"
      ],
      "text/plain": [
       "     X1 transaction date  X2 house age  \\\n",
       "41              0.909091      0.383562   \n",
       "143             0.909091      0.310502   \n",
       "280             0.636364      0.052511   \n",
       "\n",
       "     X3 distance to the nearest MRT station  X4 number of convenience stores  \\\n",
       "41                                 0.625434                              0.0   \n",
       "143                                0.072525                              0.5   \n",
       "280                                0.024897                              0.6   \n",
       "\n",
       "     X5 latitude  X6 longitude  \n",
       "41      0.132089      0.322299  \n",
       "143     0.400873      0.688376  \n",
       "280     0.408871      0.726008  "
      ]
     },
     "execution_count": 109,
     "metadata": {},
     "output_type": "execute_result"
    }
   ],
   "source": [
    "# scaling the features\n",
    "from sklearn.preprocessing import MinMaxScaler\n",
    "scaler = MinMaxScaler()\n",
    "X[X.columns] = scaler.fit_transform(X[X.columns])\n",
    "tupl = train_test_split(X, y)\n",
    "X_train, X_test, y_train, y_test = tupl\n",
    "X_train.head(3)"
   ]
  },
  {
   "cell_type": "code",
   "execution_count": 19,
   "metadata": {},
   "outputs": [
    {
     "name": "stdout",
     "output_type": "stream",
     "text": [
      "The coeffs learnt are the following: \n"
     ]
    },
    {
     "data": {
      "text/plain": [
       "array([  5.09244595, -11.79622823, -31.87607036,  11.84483643,\n",
       "        16.33263154,  -3.11272364])"
      ]
     },
     "execution_count": 19,
     "metadata": {},
     "output_type": "execute_result"
    }
   ],
   "source": [
    "lr.fit(X_train, y_train)\n",
    "y_pred = lr.predict(X_test)\n",
    "coef_ = lr.coef_\n",
    "print(\"The coeffs learnt are the following: \")\n",
    "coef_"
   ]
  },
  {
   "cell_type": "markdown",
   "metadata": {},
   "source": [
    "---\n",
    "# Q3\n",
    "c)\n",
    "Coefficients learnt on the normalized data still don't ######### "
   ]
  },
  {
   "cell_type": "markdown",
   "metadata": {},
   "source": [
    "---\n",
    "# Q3\n",
    "d) Distribution of the residuals."
   ]
  },
  {
   "cell_type": "code",
   "execution_count": 20,
   "metadata": {},
   "outputs": [
    {
     "data": {
      "image/png": "[encoded data removed]",
      "text/plain": [
       "<Figure size 432x288 with 1 Axes>"
      ]
     },
     "metadata": {
      "needs_background": "light"
     },
     "output_type": "display_data"
    }
   ],
   "source": [
    "plt.hist(y_pred-y_test, bins=40);"
   ]
  },
  {
   "cell_type": "markdown",
   "metadata": {},
   "source": [
    "The distribution is mostly centered at 0 with a look of a gaussian (Not sure if it should be, mathematically). We see a noisy sample in our data though, the point that has a error of nearly -75.\n",
    "\n",
    "One thing that I feel is that if we remove the outlier, the data would be much better fitted. I am able to guess this as we know that our error function is Root Mean Squared, which takes the square of the error, and a larger error would have a much larger affect on our qudratic error function."
   ]
  },
  {
   "cell_type": "markdown",
   "metadata": {},
   "source": [
    "# Q3\n",
    "e) 5 Cross-Validation for hyperparameter selection "
   ]
  },
  {
   "cell_type": "code",
   "execution_count": 21,
   "metadata": {},
   "outputs": [],
   "source": [
    "def nested_cross(dTrain, depths, num_valid):\n",
    "    n, m = dTrain.shape\n",
    "    m = m - 1 # one of the axis is predictions.\n",
    "    \n",
    "    dTrain.iloc[]\n",
    "    folds = make_folds(dTrain_n, num_valid)\n",
    "    # holding out test\n",
    "    passed_folds = folds[:-1]\n",
    "    k = best_k(passed_folds, depths)\n",
    "    acc = 0\n",
    "    for i in range(num_valid):\n",
    "        curr_fold_train = [x for j,x in enumerate(folds) if j!=i] \n",
    "        curr_fold_test = folds[i]\n",
    "        curr_fold_train = pd.concat(curr_fold_train)\n",
    "        mydt = LinearRegression()\n",
    "        mydt.fit(curr_fold_train.iloc[:, :-1], curr_fold_train.iloc[:, -1])\n",
    "        my_preds = np.squeeze(mydt.predict(curr_fold_test.iloc[:, :-1]).values)\n",
    "        true = curr_fold_test.iloc[:, -1].values\n",
    "        my_acc = ((true == my_preds).sum())/curr_fold_test.shape[0]\n",
    "        acc += my_acc/num_valid\n",
    "    return {\"depth\": k, \"acc\": acc}   \n",
    "\n",
    "def make_folds(dTrain, num_valid):\n",
    "    '''Make a number of folds with diven pd'''\n",
    "    train = shuffle(dTrain)\n",
    "    last = train.shape[0]\n",
    "    folds = []\n",
    "    for i in range(num_valid):\n",
    "        start = i*int(last/num_valid)\n",
    "        end = (i+1)*int(last/num_valid)\n",
    "        if end >= last:\n",
    "            end = -1\n",
    "        folds.append(train.iloc[start:end, :])\n",
    "    return folds\n",
    "\n",
    "def best_k(folds, depths):\n",
    "    '''return depth that maximizes the avg accuracy'''\n",
    "    num_valid = len(folds)\n",
    "    acc = {}\n",
    "    for i in range(num_valid):\n",
    "        curr_fold_train = [x for j,x in enumerate(folds) if j!=i] \n",
    "        curr_fold_validation = folds[i]\n",
    "        curr_fold_train = pd.concat(curr_fold_train)\n",
    "        for k in depths:\n",
    "            mydt = LinearRegression()\n",
    "            mydt.fit(curr_fold_train.iloc[:, :-1], curr_fold_train.iloc[:, -1])\n",
    "            my_preds = mydt.predict(curr_fold_validation.iloc[:, :-1])\n",
    "            true = curr_fold_validation.iloc[:, -1]\n",
    "            true = true.values\n",
    "            my_preds = np.squeeze(my_preds.values)\n",
    "            assert (true.shape == my_preds.shape)\n",
    "            my_acc = ((true == my_preds).sum())/curr_fold_validation.shape[0]\n",
    "            if k in acc.keys():\n",
    "                acc[k] += my_acc\n",
    "            else:\n",
    "                acc[k] = my_acc\n",
    "    acc = {k: acc[k]/num_valid for k in acc.keys()}\n",
    "    \n",
    "    x = acc\n",
    "    print (acc) # for showcasing\n",
    "    sorted_by_value = sorted(x.items(), key=lambda kv: kv[1])\n",
    "    return sorted(x[0] for x in sorted_by_value if sorted_by_value[-1][1] == x[1])[0]"
   ]
  },
  {
   "cell_type": "code",
   "execution_count": null,
   "metadata": {},
   "outputs": [],
   "source": [
    "from sklearn.utils import shuffle\n",
    "from utils import make_folds\n",
    "\n",
    "def NestedCross:\n",
    "    def __init__(self,\n",
    "                 clf,\n",
    "                 folds=4,\n",
    "                 method='fwd_selection'):\n",
    "        self.clf = clf\n",
    "        self.folds = folds\n",
    "        self.method = method\n",
    "    \n",
    "    def train(self, X, y):\n",
    "        self.data = X, y\n",
    "        folder = Folders(X, y,\n",
    "                         self.folds,\n",
    "                         method=self.method)\n",
    "        X_train, y_train, X_val, y_val = folder.find_next_folds(last_err=None)\n",
    "        _select_folds()\n",
    "        \n",
    "\n",
    "class Folders:\n",
    "    def __init__(self,\n",
    "                 X,\n",
    "                 y,\n",
    "                 folds,\n",
    "                 method='fwd_selection'):\n",
    "        self.data = X, y\n",
    "        self.folds = folds\n",
    "        self.method = method\n",
    "\n",
    "    def find_next_folds(self, lst_err):\n",
    "        self._make_folds(self.folds)\n",
    "        \n",
    "    \n",
    "    def _find_imp(self):\n",
    "        \n",
    "    \n",
    "    def _select_cols(self):\n",
    "        imp = self._find_imp()\n",
    "    \n",
    "    def _make_folds(self, folds):\n",
    "        '''Make a number of folds with diven pd'''\n",
    "        train = shuffle(dTrain)\n",
    "        last = train.shape[0]\n",
    "        folds_list = []\n",
    "        for i in range(folds):\n",
    "            start = i*int(last/folds)\n",
    "            end = (i+1)*int(last/folds)\n",
    "            if end >= last:\n",
    "                end = -1\n",
    "            folds_list.append(train.iloc[start:end, :])\n",
    "        return folds_list\n",
    "\n",
    "    \n",
    "def make_folds(dTrain, folds):\n",
    "    '''Make a number of folds with diven pd'''\n",
    "    train = shuffle(dTrain)\n",
    "    last = train.shape[0]\n",
    "    folds = []\n",
    "    for i in range(folds):\n",
    "        start = i*int(last/folds)\n",
    "        end = (i+1)*int(last/folds)\n",
    "        if end >= last:\n",
    "            end = -1\n",
    "        folds.append(train.iloc[start:end, :])\n",
    "    return folds\n",
    "\n"
   ]
  },
  {
   "cell_type": "markdown",
   "metadata": {},
   "source": [
    "---\n",
    "# Q4\n",
    "[Link](https://gist.github.com/k0pch4/4ae7c4929558cfa2c54c9517466b03e6#file-lregress-py) to all the functions below.\n",
    "\n",
    "a) ``normalEquationRegression(X, y)`` takes in ``X`` and ``y`` and returns a vector ``Theta=[theta0, ..., thetad]`` of dimention 1 more than the number of features in ``X``.\n",
    "\n",
    "b) ``gradientDescentRegression(X, y, alpha=0.001, it=1000)`` uses iterative gradient descent to find the optimal ``Theta``. Returns, a vector ``Theta=[theta0, ..., thetad]``.\n",
    "\n"
   ]
  },
  {
   "cell_type": "markdown",
   "metadata": {},
   "source": [
    "c) ``gradientDescentAutogradRegression(X, y, alpha=0.001, it=1000)`` uses `Autograd` library to directly calculate the gradients, therefore we are not requried to calculate them by hand. Returns ``Theta``."
   ]
  },
  {
   "cell_type": "markdown",
   "metadata": {},
   "source": [
    "d) ``gradientDescentPytorchRegression(X, y, alpha=0.001, it=1000)`` uses `Autograd` internally to directly calculate the gradients, therefore we are not requried to calculate them by hand. Returns ``Theta``."
   ]
  },
  {
   "cell_type": "markdown",
   "metadata": {},
   "source": [
    "e) Below are the differnt demos for all of the implementations."
   ]
  },
  {
   "cell_type": "code",
   "execution_count": 124,
   "metadata": {},
   "outputs": [],
   "source": [
    "from lregress import normalEquationRegression\n",
    "from lregress import gradientDescentRegression\n",
    "from lregress import gradientDescentAutogradRegression\n",
    "from lregress import gradientDescentPytorchRegression"
   ]
  },
  {
   "cell_type": "code",
   "execution_count": 125,
   "metadata": {},
   "outputs": [
    {
     "name": "stdout",
     "output_type": "stream",
     "text": [
      "normalEquationRegression theta:\n",
      " [ 29.71075446   4.90713221 -12.11290184 -25.3046629   11.57049822\n",
      "  18.99363026   2.18916535]\n",
      "gradientDescentRegression theta:\n",
      " [ 27.41372088   4.8840888  -12.135721   -22.89261403  11.77306556\n",
      "  19.93960562   4.38329791]\n",
      "gradientDescentAutogradRegression theta:\n",
      " [ 27.41372088   4.8840888  -12.135721   -22.89261403  11.77306556\n",
      "  19.93960562   4.38329791]\n",
      "gradientDescentPytorchRegression theta:\n",
      " [ 27.39249     4.8838696 -12.135942  -22.870312   11.774922   19.948547\n",
      "   4.4034576]\n"
     ]
    }
   ],
   "source": [
    "th = normalEquationRegression(X_train, y_train)\n",
    "print (\"normalEquationRegression theta:\\n\", th)\n",
    "\n",
    "th = gradientDescentRegression(X_train, y_train)\n",
    "print (\"gradientDescentRegression theta:\\n\", th)\n",
    "\n",
    "th = gradientDescentAutogradRegression(X_train, y_train)\n",
    "print (\"gradientDescentAutogradRegression theta:\\n\", th)\n",
    "\n",
    "th = gradientDescentPytorchRegression(X_train, y_train)\n",
    "print (\"gradientDescentPytorchRegression theta:\\n\", th)"
   ]
  },
  {
   "cell_type": "markdown",
   "metadata": {},
   "source": [
    "### ---\n",
    "# Q5"
   ]
  },
  {
   "cell_type": "code",
   "execution_count": 67,
   "metadata": {},
   "outputs": [],
   "source": [
    "# Generating some data\n",
    "x = np.arange(0, 20.1, 0.1)\n",
    "np.random.seed(0)\n",
    "y = 1*x**5 + 3*x**4 - 100*x**3 + \\\n",
    "    8*x**2 -300*x - 1e5 + \\\n",
    "    np.random.randn(len(x))*1e5\n"
   ]
  },
  {
   "cell_type": "code",
   "execution_count": 97,
   "metadata": {},
   "outputs": [
    {
     "data": {
      "text/plain": [
       "array([nan, nan, nan, nan, nan, nan])"
      ]
     },
     "execution_count": 97,
     "metadata": {},
     "output_type": "execute_result"
    }
   ],
   "source": [
    "transformed(x, y)"
   ]
  },
  {
   "cell_type": "code",
   "execution_count": 96,
   "metadata": {},
   "outputs": [],
   "source": [
    "def transformed(x, y, p = 5):\n",
    "    X = []\n",
    "    for i in range(1, p+1):\n",
    "        X.append(np.power(x, i))\n",
    "    X = np.array(X).T\n",
    "    return gradientDescentAutogradRegression(X, y, alpha=0.00001, it=10000)"
   ]
  },
  {
   "cell_type": "markdown",
   "metadata": {},
   "source": [
    "---\n",
    "# Q6"
   ]
  },
  {
   "cell_type": "code",
   "execution_count": 120,
   "metadata": {},
   "outputs": [],
   "source": [
    "# building a toy problem\n",
    "X = [1, 3, 6]\n",
    "Y = [6, 10, 16]\n",
    "X = np.array(X)\n",
    "Y = np.array(Y)"
   ]
  },
  {
   "cell_type": "code",
   "execution_count": 121,
   "metadata": {},
   "outputs": [],
   "source": [
    "import matplotlib.pyplot as plt\n",
    "def plot():\n",
    "    delta = 0.2\n",
    "    th_0 = np.arange(-4.0, 4.0, delta)\n",
    "    th_1 = np.arange(-4.0, 4.0, delta)\n",
    "    Th_0, Th_1 = np.meshgrid(th_0, th_1)\n",
    "    Z = cost(Th_0, Th_1)\n",
    "    print (Z.shape)\n",
    "    plt.contour(Z, Th_0, Th_1)\n",
    "    \n",
    "def cost(th0, th1):\n",
    "    msh = []\n",
    "    for i in range(th1.shape[0]):\n",
    "        temp2 = 0\n",
    "        for j in range(X.shape[0]):\n",
    "            temp = th1[0, i] * X[j] + th0[0, i]\n",
    "            temp = (temp-y[j])**2\n",
    "            temp2 += temp\n",
    "        msh.append(temp2)\n",
    "    mesh = np.array(msh)\n",
    "    mesh, _ = np.meshgrid(mesh, np.arange(th1.shape[0]))\n",
    "    return mesh"
   ]
  },
  {
   "cell_type": "code",
   "execution_count": 122,
   "metadata": {},
   "outputs": [
    {
     "name": "stdout",
     "output_type": "stream",
     "text": [
      "(40, 40)\n"
     ]
    },
    {
     "data": {
      "image/png": "[encoded data removed]",
      "text/plain": [
       "<Figure size 432x288 with 1 Axes>"
      ]
     },
     "metadata": {
      "needs_background": "light"
     },
     "output_type": "display_data"
    }
   ],
   "source": [
    "plot()"
   ]
  },
  {
   "cell_type": "code",
   "execution_count": 3,
   "metadata": {},
   "outputs": [
    {
     "ename": "ValueError",
     "evalue": "Unable to coerce to DataFrame, shape must be (310, 6): given (20, 30)",
     "output_type": "error",
     "traceback": [
      "Traceback \u001b[1;36m(most recent call last)\u001b[0m:\n",
      "  File \u001b[0;32m\"<ipython-input-3-79bc86f4fb6e>\"\u001b[0m, line \u001b[0;32m7\u001b[0m, in \u001b[0;35m<module>\u001b[0m\n    Z1 = np.exp(-X*X_train**2 - Y**2)\n",
      "  File \u001b[0;32m\"D:\\Users\\apoor\\Miniconda3\\envs\\3d\\lib\\site-packages\\pandas\\core\\ops.py\"\u001b[0m, line \u001b[0;32m2018\u001b[0m, in \u001b[0;35mf\u001b[0m\n    other = _align_method_FRAME(self, other, axis)\n",
      "\u001b[1;36m  File \u001b[1;32m\"D:\\Users\\apoor\\Miniconda3\\envs\\3d\\lib\\site-packages\\pandas\\core\\ops.py\"\u001b[1;36m, line \u001b[1;32m1976\u001b[1;36m, in \u001b[1;35m_align_method_FRAME\u001b[1;36m\u001b[0m\n\u001b[1;33m    given_shape=right.shape))\u001b[0m\n",
      "\u001b[1;31mValueError\u001b[0m\u001b[1;31m:\u001b[0m Unable to coerce to DataFrame, shape must be (310, 6): given (20, 30)\n"
     ]
    }
   ],
   "source": [
    "import matplotlib.cm as cm\n",
    "import matplotlib.pyplot as plt\n",
    "delta = 0.2\n",
    "x = np.arange(-3.0, 3.0, delta)\n",
    "y = np.arange(-2.0, 2.0, delta)\n",
    "X, Y = np.meshgrid(x, y)\n",
    "Z1 = np.exp(-X**2 - Y**2)\n",
    "Z2 = np.exp(-(X - 1)**2 - (Y - 1)**2)\n",
    "Z = (Z1 - Z2) * 2\n",
    "fig, ax = plt.subplots()\n",
    "CS = ax.contour(X, Y, Z)\n",
    "ax.clabel(CS, inline=1, fontsize=10)\n",
    "ax.set_title('Simplest default with labels')"
   ]
  },
  {
   "cell_type": "markdown",
   "metadata": {},
   "source": [
    "b) Using normal Equations\n",
    "link to [pdf](https://drive.google.com/file/d/1xoMWRFT8beyL0IEr9pltqCyD1svStdA8/view?usp=sharing)"
   ]
  },
  {
   "cell_type": "code",
   "execution_count": 21,
   "metadata": {},
   "outputs": [
    {
     "data": {
      "image/png": "[encoded data removed]",
      "text/plain": [
       "<Figure size 720x442.8 with 2 Axes>"
      ]
     },
     "metadata": {
      "needs_background": "light"
     },
     "output_type": "display_data"
    }
   ],
   "source": [
    "# The data to fit\n",
    "m = 20\n",
    "theta0_true = 4\n",
    "theta1_true = 2\n",
    "x = np.linspace(-5,5,m)\n",
    "y = theta0_true + theta1_true * x\n",
    "\n",
    "# # The plot: LHS is the data, RHS will be the cost function.\n",
    "# fig, ax = plt.subplots(nrows=1, ncols=2, figsize=(10,6.15))\n",
    "# ax[0].scatter(x, y, marker='x', s=40, color='k')\n",
    "\n",
    "def cost_func(theta0, theta1):\n",
    "    \"\"\"The cost function, J(theta0, theta1) describing the goodness of fit.\"\"\"\n",
    "    theta0 = np.atleast_3d(np.asarray(theta0))\n",
    "    theta1 = np.atleast_3d(np.asarray(theta1))\n",
    "    return np.average((y-hypothesis(x, theta0, theta1))**2, axis=2)/2\n",
    "\n",
    "def hypothesis(x, theta0, theta1):\n",
    "    \"\"\"Our \"hypothesis function\", a straight line.\"\"\"\n",
    "    return theta0 + theta1*x\n",
    "\n",
    "# First construct a grid of (theta0, theta1) parameter pairs and their\n",
    "# corresponding cost function values.\n",
    "theta0_grid = np.linspace(-1,4,101)\n",
    "theta1_grid = np.linspace(-5,5,101)\n",
    "J_grid = cost_func(theta0_grid[np.newaxis,:,np.newaxis],\n",
    "theta1_grid[:,np.newaxis,np.newaxis])\n",
    "\n",
    "# A labeled contour plot for the RHS cost function\n",
    "X, Y = np.meshgrid(theta0_grid, theta1_grid)\n",
    "contours = ax[1].contour(X, Y, J_grid, 30)\n",
    "ax[1].clabel(contours)\n",
    "# The target parameter values indicated on the cost function contour plot\n",
    "ax[1].scatter([theta0_true]*2,[theta1_true]*2,s=[50,10], color=['k','w'])\n",
    "\n",
    "# Take N steps with learning rate alpha down the steepest gradient,\n",
    "# starting at (theta0, theta1) = (0, 0).\n",
    "N = 5\n",
    "alpha = 0.1\n",
    "theta = [np.array((0,0))]\n",
    "J = [cost_func(*theta[0])[0]]\n",
    "for j in range(N-1):\n",
    "    last_theta = theta[-1]\n",
    "    this_theta = np.empty((2,))\n",
    "    this_theta[0] = last_theta[0] - alpha / m * np.sum(\n",
    "    (hypothesis(x, *last_theta) - y))\n",
    "    this_theta[1] = last_theta[1] - alpha / m * np.sum(\n",
    "    (hypothesis(x, *last_theta) - y) * x)\n",
    "    theta.append(this_theta)\n",
    "J.append(cost_func(*this_theta))\n",
    "\n",
    "\n",
    "# Annotate the cost function plot with coloured points indicating the\n",
    "# parameters chosen and red arrows indicating the steps down the gradient.\n",
    "# Also plot the fit function on the LHS data plot in a matching colour.\n",
    "colors = ['b', 'g', 'm', 'c', 'orange']\n",
    "ax[0].plot(x, hypothesis(x, *theta[0]), color=colors[0], lw=2,\n",
    "label=r'$\\theta_0 = {:.3f}, \\theta_1 = {:.3f}$'.format(*theta[0]))\n",
    "for j in range(1,N):\n",
    "    ax[1].annotate('', xy=theta[j], xytext=theta[j-1],\n",
    "    arrowprops={'arrowstyle': '->', 'color': 'r', 'lw': 1},\n",
    "    va='center', ha='center')\n",
    "    ax[0].plot(x, hypothesis(x, *theta[j]), color=colors[j], lw=2,\n",
    "    label=r'$\\theta_0 = {:.3f}, \\theta_1 = {:.3f}$'.format(*theta[j]))\n",
    "ax[1].scatter(*zip(*theta), c=colors, s=40, lw=0)\n",
    "\n",
    "# Labels, titles and a legend.\n",
    "ax[1].set_xlabel(r'$\\theta_0$')\n",
    "ax[1].set_ylabel(r'$\\theta_1$')\n",
    "ax[1].set_title('Cost function')\n",
    "ax[0].set_xlabel(r'$x$')\n",
    "ax[0].set_ylabel(r'$y$')\n",
    "ax[0].set_title('Data and fit')\n",
    "axbox = ax[0].get_position()\n",
    "# Position the legend by hand so that it doesn't cover up any of the lines.\n",
    "ax[0].legend(loc=(axbox.x0+0.5*axbox.width, axbox.y0+0.1*axbox.height),\n",
    "fontsize='small')\n",
    "\n",
    "plt.show()"
   ]
  },
  {
   "cell_type": "code",
   "execution_count": null,
   "metadata": {},
   "outputs": [],
   "source": []
  }
 ],
 "metadata": {
  "kernelspec": {
   "display_name": "Python 3",
   "language": "python",
   "name": "python3"
  },
  "language_info": {
   "codemirror_mode": {
    "name": "ipython",
    "version": 3
   },
   "file_extension": ".py",
   "mimetype": "text/x-python",
   "name": "python",
   "nbconvert_exporter": "python",
   "pygments_lexer": "ipython3",
   "version": "3.6.8"
  }
 },
 "nbformat": 4,
 "nbformat_minor": 2
}
