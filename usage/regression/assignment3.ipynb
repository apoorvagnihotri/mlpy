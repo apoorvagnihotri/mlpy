{
 "cells": [
  {
   "cell_type": "code",
   "execution_count": 1,
   "metadata": {},
   "outputs": [
    {
     "name": "stdout",
     "output_type": "stream",
     "text": [
      "Exception reporting mode: Plain\n"
     ]
    }
   ],
   "source": [
    "%load_ext autoreload\n",
    "%autoreload 2\n",
    "import sys\n",
    "dirr = \"../../src\"\n",
    "if dirr not in sys.path:\n",
    "    sys.path.append(dirr)\n",
    "%xmode Plain\n",
    "import pandas as pd\n",
    "import numpy as np\n",
    "import numpy.random as npr\n",
    "import utils as helper\n",
    "import matplotlib.pyplot as plt\n",
    "from sklearn.linear_model import LinearRegression\n",
    "from sklearn.model_selection import train_test_split"
   ]
  },
  {
   "cell_type": "markdown",
   "metadata": {},
   "source": [
    "# Q1\n",
    "Link to the [pdf](https://drive.google.com/file/d/1YhLUJuHG-geJgn1pXUl7KHdrrjGvUgQr/view?usp=sharing)\n",
    "\n",
    "---"
   ]
  },
  {
   "cell_type": "markdown",
   "metadata": {},
   "source": [
    "# Q2\n",
    "a) Solution by sk-learn"
   ]
  },
  {
   "cell_type": "code",
   "execution_count": 2,
   "metadata": {},
   "outputs": [],
   "source": [
    "X = [[1, 2],\n",
    "     [2, 4],\n",
    "     [3, 6],\n",
    "     [4, 8]]\n",
    "y = [2,3,4,5]\n",
    "X = np.array(X)\n",
    "y = np.array(y)\n",
    "# Setting up data"
   ]
  },
  {
   "cell_type": "code",
   "execution_count": 3,
   "metadata": {},
   "outputs": [
    {
     "data": {
      "text/plain": [
       "LinearRegression(copy_X=True, fit_intercept=True, n_jobs=1, normalize=False)"
      ]
     },
     "execution_count": 3,
     "metadata": {},
     "output_type": "execute_result"
    }
   ],
   "source": [
    "lr = LinearRegression()\n",
    "lr.fit(X, y)"
   ]
  },
  {
   "cell_type": "code",
   "execution_count": 4,
   "metadata": {},
   "outputs": [
    {
     "data": {
      "text/plain": [
       "array([3.16])"
      ]
     },
     "execution_count": 4,
     "metadata": {},
     "output_type": "execute_result"
    }
   ],
   "source": [
    "lr.predict([[2,4.4]])"
   ]
  },
  {
   "cell_type": "markdown",
   "metadata": {},
   "source": [
    "---\n",
    "# Q2\n",
    "b) Using normal Equations.\n",
    "\n",
    "We get ``LinAlgError`` because the matrix $X.X^{T}$ is singular, therefore inverting such a matrix would fail."
   ]
  },
  {
   "cell_type": "code",
   "execution_count": 5,
   "metadata": {},
   "outputs": [
    {
     "ename": "LinAlgError",
     "evalue": "Singular matrix",
     "output_type": "error",
     "traceback": [
      "Traceback \u001b[1;36m(most recent call last)\u001b[0m:\n",
      "  File \u001b[0;32m\"<ipython-input-5-b48f167ccf1d>\"\u001b[0m, line \u001b[0;32m2\u001b[0m, in \u001b[0;35m<module>\u001b[0m\n    theta = normalEquationRegression(X, y)\n",
      "  File \u001b[0;32m\"../../src\\lregress.py\"\u001b[0m, line \u001b[0;32m10\u001b[0m, in \u001b[0;35mnormalEquationRegression\u001b[0m\n    temp = np.linalg.inv(temp)\n",
      "  File \u001b[0;32m\"D:\\Users\\apoor\\Miniconda3\\envs\\3d\\lib\\site-packages\\numpy\\linalg\\linalg.py\"\u001b[0m, line \u001b[0;32m532\u001b[0m, in \u001b[0;35minv\u001b[0m\n    ainv = _umath_linalg.inv(a, signature=signature, extobj=extobj)\n",
      "\u001b[1;36m  File \u001b[1;32m\"D:\\Users\\apoor\\Miniconda3\\envs\\3d\\lib\\site-packages\\numpy\\linalg\\linalg.py\"\u001b[1;36m, line \u001b[1;32m89\u001b[1;36m, in \u001b[1;35m_raise_linalgerror_singular\u001b[1;36m\u001b[0m\n\u001b[1;33m    raise LinAlgError(\"Singular matrix\")\u001b[0m\n",
      "\u001b[1;31mLinAlgError\u001b[0m\u001b[1;31m:\u001b[0m Singular matrix\n"
     ]
    }
   ],
   "source": [
    "from lregress import normalEquationRegression\n",
    "theta = normalEquationRegression(X, y)\n",
    "theta"
   ]
  },
  {
   "cell_type": "markdown",
   "metadata": {},
   "source": [
    "Sk-learn overcomes this problem by using a different technique to calculate inverses, called [Moore–Penrose pseudo inverse](https://en.wikipedia.org/wiki/Moore%E2%80%93Penrose_inverse)."
   ]
  },
  {
   "cell_type": "markdown",
   "metadata": {},
   "source": [
    "---\n",
    "# Q3\n",
    "a) Running Sk-learn on real-estate price prediction problem."
   ]
  },
  {
   "cell_type": "code",
   "execution_count": 6,
   "metadata": {},
   "outputs": [
    {
     "data": {
      "text/html": [
       "<div>\n",
       "<style scoped>\n",
       "    .dataframe tbody tr th:only-of-type {\n",
       "        vertical-align: middle;\n",
       "    }\n",
       "\n",
       "    .dataframe tbody tr th {\n",
       "        vertical-align: top;\n",
       "    }\n",
       "\n",
       "    .dataframe thead th {\n",
       "        text-align: right;\n",
       "    }\n",
       "</style>\n",
       "<table border=\"1\" class=\"dataframe\">\n",
       "  <thead>\n",
       "    <tr style=\"text-align: right;\">\n",
       "      <th></th>\n",
       "      <th>X1 transaction date</th>\n",
       "      <th>X2 house age</th>\n",
       "      <th>X3 distance to the nearest MRT station</th>\n",
       "      <th>X4 number of convenience stores</th>\n",
       "      <th>X5 latitude</th>\n",
       "      <th>X6 longitude</th>\n",
       "    </tr>\n",
       "  </thead>\n",
       "  <tbody>\n",
       "    <tr>\n",
       "      <th>356</th>\n",
       "      <td>2012.833333</td>\n",
       "      <td>10.3</td>\n",
       "      <td>211.4473</td>\n",
       "      <td>1</td>\n",
       "      <td>24.97417</td>\n",
       "      <td>121.52999</td>\n",
       "    </tr>\n",
       "    <tr>\n",
       "      <th>152</th>\n",
       "      <td>2013.333333</td>\n",
       "      <td>12.0</td>\n",
       "      <td>1360.1390</td>\n",
       "      <td>1</td>\n",
       "      <td>24.95204</td>\n",
       "      <td>121.54842</td>\n",
       "    </tr>\n",
       "    <tr>\n",
       "      <th>126</th>\n",
       "      <td>2013.083333</td>\n",
       "      <td>38.6</td>\n",
       "      <td>804.6897</td>\n",
       "      <td>4</td>\n",
       "      <td>24.97838</td>\n",
       "      <td>121.53477</td>\n",
       "    </tr>\n",
       "    <tr>\n",
       "      <th>364</th>\n",
       "      <td>2013.416667</td>\n",
       "      <td>35.3</td>\n",
       "      <td>614.1394</td>\n",
       "      <td>7</td>\n",
       "      <td>24.97913</td>\n",
       "      <td>121.53666</td>\n",
       "    </tr>\n",
       "    <tr>\n",
       "      <th>123</th>\n",
       "      <td>2013.416667</td>\n",
       "      <td>0.0</td>\n",
       "      <td>185.4296</td>\n",
       "      <td>0</td>\n",
       "      <td>24.97110</td>\n",
       "      <td>121.53170</td>\n",
       "    </tr>\n",
       "  </tbody>\n",
       "</table>\n",
       "</div>"
      ],
      "text/plain": [
       "     X1 transaction date  X2 house age  \\\n",
       "356          2012.833333          10.3   \n",
       "152          2013.333333          12.0   \n",
       "126          2013.083333          38.6   \n",
       "364          2013.416667          35.3   \n",
       "123          2013.416667           0.0   \n",
       "\n",
       "     X3 distance to the nearest MRT station  X4 number of convenience stores  \\\n",
       "356                                211.4473                                1   \n",
       "152                               1360.1390                                1   \n",
       "126                                804.6897                                4   \n",
       "364                                614.1394                                7   \n",
       "123                                185.4296                                0   \n",
       "\n",
       "     X5 latitude  X6 longitude  \n",
       "356     24.97417     121.52999  \n",
       "152     24.95204     121.54842  \n",
       "126     24.97838     121.53477  \n",
       "364     24.97913     121.53666  \n",
       "123     24.97110     121.53170  "
      ]
     },
     "execution_count": 6,
     "metadata": {},
     "output_type": "execute_result"
    }
   ],
   "source": [
    "data_loc = \"../../data/real_estate/dataset.xlsx\"\n",
    "data = pd.read_excel(data_loc)\n",
    "X = data.iloc[:, 1:-1]\n",
    "y = data.iloc[:, -1]\n",
    "tupl = train_test_split(X, y)\n",
    "X_train, X_test, y_train, y_test = tupl\n",
    "X_train.head(5)"
   ]
  },
  {
   "cell_type": "code",
   "execution_count": 7,
   "metadata": {},
   "outputs": [],
   "source": [
    "def rmse(pred, true):\n",
    "    return np.sqrt(np.mean((pred-true)**2))"
   ]
  },
  {
   "cell_type": "code",
   "execution_count": 8,
   "metadata": {},
   "outputs": [
    {
     "name": "stdout",
     "output_type": "stream",
     "text": [
      "The RMSE error obtained is:  7.137472504145238\n"
     ]
    }
   ],
   "source": [
    "lr = LinearRegression()\n",
    "lr.fit(X_train, y_train)\n",
    "y_pred = lr.predict(X_test)\n",
    "print(\"The RMSE error obtained is: \", rmse(y_pred, y_test.values))"
   ]
  },
  {
   "cell_type": "code",
   "execution_count": 9,
   "metadata": {},
   "outputs": [
    {
     "name": "stdout",
     "output_type": "stream",
     "text": [
      "[ 5.90716451e+00 -2.60249095e-01 -4.86518419e-03  9.78288202e-01\n",
      "  2.20094114e+02 -1.65014835e+01]\n",
      "-15337.93656328878\n"
     ]
    }
   ],
   "source": [
    "print(lr.coef_)\n",
    "print(lr.intercept_)"
   ]
  },
  {
   "cell_type": "markdown",
   "metadata": {},
   "source": [
    "---\n",
    "# Q3\n",
    "b) To assume that the co-efficients learnt signify the importance of the feature is wrong. This can be shown by thinking of a example where on of the feature measures some quantities in ``centimeters`` and the same feature is converted to ``inches`` in the next curve fitting. Since we already know the importance of the feature would not change by the unit it is measured in but the co-efficients would get changed. Here by taking a feature in a different unit, the importance of the feature can be decreased (stated in the question) is a contradiction as clearly importance of a feature is not dependent on the unit it is measured. There for the coefficients don't tell us anything about the importance of the features."
   ]
  },
  {
   "cell_type": "code",
   "execution_count": 10,
   "metadata": {},
   "outputs": [
    {
     "name": "stdout",
     "output_type": "stream",
     "text": [
      "The coeffs learnt are the following: \n"
     ]
    },
    {
     "data": {
      "text/plain": [
       "array([ 5.90716451e+00, -2.60249095e-01, -4.86518419e-03,  9.78288202e-01,\n",
       "        2.20094114e+02, -1.65014835e+01])"
      ]
     },
     "execution_count": 10,
     "metadata": {},
     "output_type": "execute_result"
    }
   ],
   "source": [
    "coef_ = lr.coef_\n",
    "print(\"The coeffs learnt are the following: \")\n",
    "coef_"
   ]
  },
  {
   "cell_type": "markdown",
   "metadata": {},
   "source": [
    "---\n",
    "# Q3\n",
    "c) Scaling the numerical columns of the Data Frame."
   ]
  },
  {
   "cell_type": "code",
   "execution_count": 11,
   "metadata": {},
   "outputs": [
    {
     "data": {
      "text/html": [
       "<div>\n",
       "<style scoped>\n",
       "    .dataframe tbody tr th:only-of-type {\n",
       "        vertical-align: middle;\n",
       "    }\n",
       "\n",
       "    .dataframe tbody tr th {\n",
       "        vertical-align: top;\n",
       "    }\n",
       "\n",
       "    .dataframe thead th {\n",
       "        text-align: right;\n",
       "    }\n",
       "</style>\n",
       "<table border=\"1\" class=\"dataframe\">\n",
       "  <thead>\n",
       "    <tr style=\"text-align: right;\">\n",
       "      <th></th>\n",
       "      <th>X1 transaction date</th>\n",
       "      <th>X2 house age</th>\n",
       "      <th>X3 distance to the nearest MRT station</th>\n",
       "      <th>X4 number of convenience stores</th>\n",
       "      <th>X5 latitude</th>\n",
       "      <th>X6 longitude</th>\n",
       "    </tr>\n",
       "  </thead>\n",
       "  <tbody>\n",
       "    <tr>\n",
       "      <th>30</th>\n",
       "      <td>0.909091</td>\n",
       "      <td>0.591324</td>\n",
       "      <td>0.695523</td>\n",
       "      <td>0.0</td>\n",
       "      <td>0.196195</td>\n",
       "      <td>0.240889</td>\n",
       "    </tr>\n",
       "    <tr>\n",
       "      <th>352</th>\n",
       "      <td>0.181818</td>\n",
       "      <td>0.420091</td>\n",
       "      <td>0.410167</td>\n",
       "      <td>0.3</td>\n",
       "      <td>0.355793</td>\n",
       "      <td>0.374596</td>\n",
       "    </tr>\n",
       "    <tr>\n",
       "      <th>107</th>\n",
       "      <td>0.727273</td>\n",
       "      <td>0.278539</td>\n",
       "      <td>0.206780</td>\n",
       "      <td>0.1</td>\n",
       "      <td>0.242002</td>\n",
       "      <td>0.807526</td>\n",
       "    </tr>\n",
       "  </tbody>\n",
       "</table>\n",
       "</div>"
      ],
      "text/plain": [
       "     X1 transaction date  X2 house age  \\\n",
       "30              0.909091      0.591324   \n",
       "352             0.181818      0.420091   \n",
       "107             0.727273      0.278539   \n",
       "\n",
       "     X3 distance to the nearest MRT station  X4 number of convenience stores  \\\n",
       "30                                 0.695523                              0.0   \n",
       "352                                0.410167                              0.3   \n",
       "107                                0.206780                              0.1   \n",
       "\n",
       "     X5 latitude  X6 longitude  \n",
       "30      0.196195      0.240889  \n",
       "352     0.355793      0.374596  \n",
       "107     0.242002      0.807526  "
      ]
     },
     "execution_count": 11,
     "metadata": {},
     "output_type": "execute_result"
    }
   ],
   "source": [
    "# scaling the features\n",
    "from sklearn.preprocessing import MinMaxScaler\n",
    "scaler = MinMaxScaler()\n",
    "X[X.columns] = scaler.fit_transform(X[X.columns])\n",
    "tupl = train_test_split(X, y)\n",
    "X_train, X_test, y_train, y_test = tupl\n",
    "X_train.head(3)"
   ]
  },
  {
   "cell_type": "code",
   "execution_count": 12,
   "metadata": {},
   "outputs": [
    {
     "name": "stdout",
     "output_type": "stream",
     "text": [
      "The coeffs learnt are the following: \n"
     ]
    },
    {
     "data": {
      "text/plain": [
       "array([  5.27239032, -10.31532535, -26.20952979,  14.69108618,\n",
       "        14.25121949,   0.52711944])"
      ]
     },
     "execution_count": 12,
     "metadata": {},
     "output_type": "execute_result"
    }
   ],
   "source": [
    "lr.fit(X_train, y_train)\n",
    "y_pred = lr.predict(X_test)\n",
    "coef_ = lr.coef_\n",
    "print(\"The coeffs learnt are the following: \")\n",
    "coef_"
   ]
  },
  {
   "cell_type": "markdown",
   "metadata": {},
   "source": [
    "---\n",
    "# Q3\n",
    "c)\n",
    "Coefficients learnt on the normalized data still don't ######### "
   ]
  },
  {
   "cell_type": "markdown",
   "metadata": {},
   "source": [
    "---\n",
    "# Q3\n",
    "d) Distribution of the residuals."
   ]
  },
  {
   "cell_type": "code",
   "execution_count": 13,
   "metadata": {},
   "outputs": [
    {
     "data": {
      "image/png": "[encoded data removed]",
      "text/plain": [
       "<Figure size 432x288 with 1 Axes>"
      ]
     },
     "metadata": {},
     "output_type": "display_data"
    }
   ],
   "source": [
    "plt.hist(y_pred-y_test, bins=40);"
   ]
  },
  {
   "cell_type": "markdown",
   "metadata": {},
   "source": [
    "The distribution is mostly centered at 0 with a look of a gaussian (Not sure if it should be, mathematically). We see a noisy sample in our data though, the point that has a error of nearly -75.\n",
    "\n",
    "One thing that I feel is that if we remove the outlier, the data would be much better fitted. I am able to guess this as we know that our error function is Root Mean Squared, which takes the square of the error, and a larger error would have a much larger affect on our qudratic error function."
   ]
  },
  {
   "cell_type": "markdown",
   "metadata": {},
   "source": [
    "# Q3\n",
    "e) 5 Cross-Validation for hyperparameter selection "
   ]
  },
  {
   "cell_type": "code",
   "execution_count": 14,
   "metadata": {},
   "outputs": [],
   "source": [
    "def nested_cross(dTrain, depths, num_valid):\n",
    "    folds = make_folds(dTrain, num_valid)\n",
    "    # holding out test\n",
    "    passed_folds = folds[:-1]\n",
    "    k = best_k(passed_folds, depths)\n",
    "    acc = 0\n",
    "    for i in range(num_valid):\n",
    "        curr_fold_train = [x for j,x in enumerate(folds) if j!=i] \n",
    "        curr_fold_test = folds[i]\n",
    "        curr_fold_train = pd.concat(curr_fold_train)\n",
    "        mydt = LinearRegression()\n",
    "        mydt.fit(curr_fold_train.iloc[:, :-1], curr_fold_train.iloc[:, -1])\n",
    "        my_preds = np.squeeze(mydt.predict(curr_fold_test.iloc[:, :-1]).values)\n",
    "        true = curr_fold_test.iloc[:, -1].values\n",
    "        my_acc = ((true == my_preds).sum())/curr_fold_test.shape[0]\n",
    "        acc += my_acc/num_valid\n",
    "    return {\"depth\": k, \"acc\": acc}   \n",
    "\n",
    "def make_folds(dTrain, num_valid):\n",
    "    '''Make a number of folds with diven pd'''\n",
    "    train = shuffle(dTrain)\n",
    "    last = train.shape[0]\n",
    "    folds = []\n",
    "    for i in range(num_valid):\n",
    "        start = i*int(last/num_valid)\n",
    "        end = (i+1)*int(last/num_valid)\n",
    "        if end >= last:\n",
    "            end = -1\n",
    "        folds.append(train.iloc[start:end, :])\n",
    "    return folds\n",
    "\n",
    "def best_k(folds, depths):\n",
    "    '''return depth that maximizes the avg accuracy'''\n",
    "    num_valid = len(folds)\n",
    "    acc = {}\n",
    "    for i in range(num_valid):\n",
    "        curr_fold_train = [x for j,x in enumerate(folds) if j!=i] \n",
    "        curr_fold_validation = folds[i]\n",
    "        curr_fold_train = pd.concat(curr_fold_train)\n",
    "        for k in depths:\n",
    "            mydt = LinearRegression()\n",
    "            mydt.fit(curr_fold_train.iloc[:, :-1], curr_fold_train.iloc[:, -1])\n",
    "            my_preds = mydt.predict(curr_fold_validation.iloc[:, :-1])\n",
    "            true = curr_fold_validation.iloc[:, -1]\n",
    "            true = true.values\n",
    "            my_preds = np.squeeze(my_preds.values)\n",
    "            assert (true.shape == my_preds.shape)\n",
    "            my_acc = ((true == my_preds).sum())/curr_fold_validation.shape[0]\n",
    "            if k in acc.keys():\n",
    "                acc[k] += my_acc\n",
    "            else:\n",
    "                acc[k] = my_acc\n",
    "    acc = {k: acc[k]/num_valid for k in acc.keys()}\n",
    "    \n",
    "    x = acc\n",
    "    print (acc) # for showcasing\n",
    "    sorted_by_value = sorted(x.items(), key=lambda kv: kv[1])\n",
    "    return sorted(x[0] for x in sorted_by_value if sorted_by_value[-1][1] == x[1])[0]"
   ]
  },
  {
   "cell_type": "code",
   "execution_count": null,
   "metadata": {},
   "outputs": [],
   "source": []
  },
  {
   "cell_type": "markdown",
   "metadata": {},
   "source": [
    "---\n",
    "# Q4\n",
    "[Link](https://gist.github.com/k0pch4/4ae7c4929558cfa2c54c9517466b03e6#file-lregress-py) to all the functions below.\n",
    "\n",
    "a) ``normalEquationRegression(X, y)`` takes in ``X`` and ``y`` and returns a vector ``Theta=[theta0, ..., thetad]`` of dimention 1 more than the number of features in ``X``.\n",
    "\n",
    "b) ``gradientDescentRegression(X, y, alpha=0.1)`` uses "
   ]
  },
  {
   "cell_type": "code",
   "execution_count": null,
   "metadata": {},
   "outputs": [],
   "source": []
  },
  {
   "cell_type": "code",
   "execution_count": 66,
   "metadata": {},
   "outputs": [
    {
     "data": {
      "text/plain": [
       "array([ 31.01721261,   5.27239032, -10.31532535, -26.20952979,\n",
       "        14.69108618,  14.25121949,   0.52711944])"
      ]
     },
     "execution_count": 66,
     "metadata": {},
     "output_type": "execute_result"
    }
   ],
   "source": [
    "from lregress import normalEquationRegression\n",
    "normalEquationRegression(X_train, y_train)"
   ]
  },
  {
   "cell_type": "code",
   "execution_count": 65,
   "metadata": {},
   "outputs": [
    {
     "data": {
      "text/plain": [
       "array([ 28.84155114,   5.23773521, -10.28164931, -23.96792378,\n",
       "        14.94653925,  14.941082  ,   2.68577124])"
      ]
     },
     "execution_count": 65,
     "metadata": {},
     "output_type": "execute_result"
    }
   ],
   "source": [
    "from lregress import gradientDescentRegression\n",
    "gradientDescentRegression(X_train, y_train)"
   ]
  },
  {
   "cell_type": "code",
   "execution_count": null,
   "metadata": {},
   "outputs": [],
   "source": []
  },
  {
   "cell_type": "markdown",
   "metadata": {},
   "source": [
    "---\n",
    "# Q5"
   ]
  },
  {
   "cell_type": "code",
   "execution_count": null,
   "metadata": {},
   "outputs": [],
   "source": [
    "# Generating some data\n",
    "x = np.arange(0, 20.1, 0.1)\n",
    "np.random.seed(0)\n",
    "y = 1*x**5 + 3*x**4 - 100*x**3 + \\\n",
    "    8*x**2 -300*x - 1e5 + \\\n",
    "    np.random.randn(len(x))*1e5"
   ]
  },
  {
   "cell_type": "markdown",
   "metadata": {},
   "source": [
    "b) Using normal Equations\n",
    "link to [pdf](https://drive.google.com/file/d/1xoMWRFT8beyL0IEr9pltqCyD1svStdA8/view?usp=sharing)"
   ]
  }
 ],
 "metadata": {
  "kernelspec": {
   "display_name": "Python 3",
   "language": "python",
   "name": "python3"
  },
  "language_info": {
   "codemirror_mode": {
    "name": "ipython",
    "version": 3
   },
   "file_extension": ".py",
   "mimetype": "text/x-python",
   "name": "python",
   "nbconvert_exporter": "python",
   "pygments_lexer": "ipython3",
   "version": "3.7.0"
  }
 },
 "nbformat": 4,
 "nbformat_minor": 2
}
